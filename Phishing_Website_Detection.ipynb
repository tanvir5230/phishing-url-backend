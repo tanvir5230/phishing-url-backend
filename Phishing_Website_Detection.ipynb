{
  "cells": [
    {
      "cell_type": "markdown",
      "metadata": {
        "id": "dsIi0X7ni1Ry"
      },
      "source": [
        "# Setup Kaggle"
      ]
    },
    {
      "cell_type": "code",
      "execution_count": null,
      "metadata": {
        "id": "2Iq1VlPorv-n"
      },
      "outputs": [],
      "source": [
        "!pip install -q kaggle"
      ]
    },
    {
      "cell_type": "code",
      "execution_count": null,
      "metadata": {
        "colab": {
          "base_uri": "https://localhost:8080/",
          "height": 90,
          "resources": {
            "http://localhost:8080/nbextensions/google.colab/files.js": {
              "data": "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",
              "headers": [
                [
                  "content-type",
                  "application/javascript"
                ]
              ],
              "ok": true,
              "status": 200,
              "status_text": ""
            }
          }
        },
        "id": "27JZsNB3sDMQ",
        "outputId": "1aae4bba-88f4-4f78-d186-14a281d6d96d"
      },
      "outputs": [],
      "source": [
        "from google.colab import files\n",
        "files.upload()"
      ]
    },
    {
      "cell_type": "code",
      "execution_count": null,
      "metadata": {
        "colab": {
          "base_uri": "https://localhost:8080/"
        },
        "id": "UMwfm4-UsaAN",
        "outputId": "37e9fb4f-3738-435b-8ad4-6607a5c70407"
      },
      "outputs": [],
      "source": [
        "!mkdir ~/.kaggle\n",
        "!cp kaggle.json ~/.kaggle/\n",
        "!chmod 600 ~/.kaggle/kaggle.json\n",
        "!kaggle datasets download akashkr/phishing-website-dataset"
      ]
    },
    {
      "cell_type": "code",
      "execution_count": null,
      "metadata": {
        "colab": {
          "base_uri": "https://localhost:8080/"
        },
        "id": "EeO2GkIVvXUC",
        "outputId": "d7aaf798-2bd4-41b7-fbd8-aeadb1f63ed1"
      },
      "outputs": [],
      "source": [
        "!unzip phishing-website-dataset.zip"
      ]
    },
    {
      "cell_type": "markdown",
      "metadata": {
        "id": "Ua9eW_mY1eAj"
      },
      "source": [
        "***Dataset Source :*** https://www.kaggle.com/datasets/akashkr/phishing-website-dataset\n"
      ]
    },
    {
      "cell_type": "markdown",
      "metadata": {
        "id": "snbfg0Ex17X1"
      },
      "source": [
        "# **Detect URL from text**"
      ]
    },
    {
      "cell_type": "code",
      "execution_count": null,
      "metadata": {
        "colab": {
          "base_uri": "https://localhost:8080/"
        },
        "id": "IUaVsz6y1GWG",
        "outputId": "9c468f1a-cb08-413b-b41c-c66afe2a7b45"
      },
      "outputs": [],
      "source": [
        "import re\n",
        "import socket\n",
        "from urllib.parse import urlparse\n",
        "\n",
        "\n",
        "text=\"\"\"Mastering Power BI is essential if you're after a career as a data analyst. In case you've missed it, our Data Analyst in Power BI career track, co-created with Microsoft has arrived and is the perfect way to supercharge your data career!\n",
        "Click the link to find out more - https://lnkd.in/gQ964dE5\"\"\"\n",
        "\n",
        "urls=re.findall('http[s]?://(?:[a-zA-Z]|[0-9]|[$-_@.&+]|[!*\\(\\),]|(?:%[0-9a-fA-F][0-9a-fA-F]))+', text) #This is code for url detection\n",
        "\n",
        "urls_str=\" \".join(str(y) for y in urls)\n",
        "hostname=urlparse(urls_str).netloc\n",
        "ip_address=socket.gethostbyname(hostname)\n",
        "print(f\"Original string: [{text}]\\n\")\n",
        "print(f\"Urls: {urls_str}\")\n",
        "print(f\"Host name: {hostname}\")\n",
        "print(f\"Host length: {len(hostname)}\")\n",
        "print(f\"URL length: {len(urls_str)}\")\n",
        "print(f\"IP Address: {ip_address}\")"
      ]
    },
    {
      "cell_type": "markdown",
      "metadata": {
        "id": "wUall4Kr2G1U"
      },
      "source": [
        "# **Data Loading**"
      ]
    },
    {
      "cell_type": "code",
      "execution_count": null,
      "metadata": {
        "id": "0dXLb3FgvrGh"
      },
      "outputs": [],
      "source": [
        "import pandas as pd\n",
        "import numpy as np\n",
        "import matplotlib.pyplot as plt\n",
        "import seaborn as sns\n",
        "import warnings\n",
        "warnings.filterwarnings('ignore')\n",
        "\n",
        "sns.set(rc={'figure.figsize': (15, 6)})\n",
        "%matplotlib inline"
      ]
    },
    {
      "cell_type": "code",
      "execution_count": null,
      "metadata": {
        "colab": {
          "base_uri": "https://localhost:8080/",
          "height": 300
        },
        "id": "BnMojHUrvdfP",
        "outputId": "0db69dc5-a94e-455b-d1fe-a07634eeb371"
      },
      "outputs": [],
      "source": [
        "df=pd.read_csv('dataset.csv')\n",
        "df.head()"
      ]
    },
    {
      "cell_type": "markdown",
      "metadata": {
        "id": "2sG5WNSBkb4f"
      },
      "source": [
        "# Data Prerocessing and Analysis"
      ]
    },
    {
      "cell_type": "code",
      "execution_count": null,
      "metadata": {
        "colab": {
          "base_uri": "https://localhost:8080/",
          "height": 300
        },
        "id": "t9_oGpnA2m2H",
        "outputId": "a9e3a03d-f368-4a94-b9a9-36175dfb34c2"
      },
      "outputs": [],
      "source": [
        "df.drop('index', axis=1, inplace=True)\n",
        "df.head()"
      ]
    },
    {
      "cell_type": "code",
      "execution_count": null,
      "metadata": {
        "colab": {
          "base_uri": "https://localhost:8080/"
        },
        "id": "04GchFeyCWDV",
        "outputId": "9d36da2e-3d1c-4ab1-a9ec-d69fbd1f1289"
      },
      "outputs": [],
      "source": [
        "for x in df.columns:\n",
        "  print(f\"Unique values of column :\\n{x, df[x].unique()}\\n\")"
      ]
    },
    {
      "cell_type": "code",
      "execution_count": null,
      "metadata": {
        "colab": {
          "base_uri": "https://localhost:8080/",
          "height": 1000
        },
        "id": "dpuGN5-0Cmee",
        "outputId": "8381a41f-b120-4607-fb36-9c8ca3cd2b50"
      },
      "outputs": [],
      "source": [
        "for x in df.columns:\n",
        "  plt.figure(figsize=(15, 6))\n",
        "  sns.countplot(df[x])\n",
        "  plt.title(\"\\nCount for \"+x+\" column values\")\n",
        "  plt.show()"
      ]
    },
    {
      "cell_type": "code",
      "execution_count": null,
      "metadata": {
        "colab": {
          "base_uri": "https://localhost:8080/",
          "height": 424
        },
        "id": "2selPGJUENGs",
        "outputId": "cb586f2d-62cd-41c7-f14f-866226460e7c"
      },
      "outputs": [],
      "source": [
        "#Replacing -1 with 0 \n",
        "df['Result']=df['Result'].replace(-1,0)\n",
        "df[['Result']]"
      ]
    },
    {
      "cell_type": "code",
      "execution_count": null,
      "metadata": {
        "colab": {
          "base_uri": "https://localhost:8080/"
        },
        "id": "K3CyzXaaFIg2",
        "outputId": "c2576d97-a302-4afc-ab94-3ae6b158dcd3"
      },
      "outputs": [],
      "source": [
        "df.isnull().sum()"
      ]
    },
    {
      "cell_type": "code",
      "execution_count": null,
      "metadata": {
        "id": "-jkDbv6_luzo"
      },
      "outputs": [],
      "source": [
        "from sklearn.model_selection import train_test_split\n",
        "from sklearn.metrics import *"
      ]
    },
    {
      "cell_type": "code",
      "execution_count": null,
      "metadata": {
        "colab": {
          "base_uri": "https://localhost:8080/"
        },
        "id": "BuSuSwN5lvxo",
        "outputId": "826b2f1f-6d67-4456-9e0d-38218718a514"
      },
      "outputs": [],
      "source": [
        "X=df.drop('Result', axis=1)\n",
        "y=df['Result']\n",
        "X=X/X.max()\n",
        "\n",
        "X_train, X_test, y_train, y_test=train_test_split(X, y, stratify=y, test_size=0.30, random_state=np.random.seed(10))\n",
        "X_train.shape, X_test.shape"
      ]
    },
    {
      "cell_type": "markdown",
      "metadata": {
        "id": "sf44XGYfh-xq"
      },
      "source": [
        "# Model Building"
      ]
    },
    {
      "cell_type": "markdown",
      "metadata": {
        "id": "0FSE9hTSiEvV"
      },
      "source": [
        "### ***Random Forest***"
      ]
    },
    {
      "cell_type": "markdown",
      "metadata": {
        "id": "rX4by3B5Fb6Z"
      },
      "source": [
        "***Features From Wrapper (default parameters)***"
      ]
    },
    {
      "cell_type": "code",
      "execution_count": null,
      "metadata": {
        "colab": {
          "base_uri": "https://localhost:8080/"
        },
        "id": "3xYmls4V93PS",
        "outputId": "58e3f5f3-c461-4e4c-abf9-8aaecb5f37dc"
      },
      "outputs": [],
      "source": [
        "X=df[['having_IPhaving_IP_Address',\n",
        " 'URLURL_Length',\n",
        " 'Shortining_Service',\n",
        " 'having_At_Symbol',\n",
        " 'Prefix_Suffix',\n",
        " 'having_Sub_Domain',\n",
        " 'SSLfinal_State',\n",
        " 'Domain_registeration_length',\n",
        " 'HTTPS_token',\n",
        " 'Request_URL',\n",
        " 'URL_of_Anchor',\n",
        " 'Links_in_tags',\n",
        " 'SFH',\n",
        " 'Submitting_to_email',\n",
        " 'Redirect',\n",
        " 'popUpWidnow',\n",
        " 'age_of_domain',\n",
        " 'DNSRecord',\n",
        " 'web_traffic',\n",
        " 'Page_Rank',\n",
        " 'Google_Index',\n",
        " 'Links_pointing_to_page',\n",
        " 'Statistical_report']]\n",
        "y=df['Result']\n",
        "X=X/X.max()\n",
        "\n",
        "X_train, X_test, y_train, y_test=train_test_split(X, y, stratify=y, test_size=0.30, random_state=np.random.seed(10))\n",
        "X_train.shape, X_test.shape"
      ]
    },
    {
      "cell_type": "code",
      "execution_count": null,
      "metadata": {
        "id": "HEv30xaH-VNU"
      },
      "outputs": [],
      "source": [
        "rf=RandomForestClassifier().fit(X_train, y_train)"
      ]
    },
    {
      "cell_type": "code",
      "execution_count": null,
      "metadata": {
        "colab": {
          "base_uri": "https://localhost:8080/"
        },
        "id": "wG1JCXb1-g_D",
        "outputId": "05d36ef5-e764-4c5b-aacf-81d45026adf1"
      },
      "outputs": [],
      "source": [
        "print(f\"Training score: {rf.score(X_train, y_train).round(2)}\\n\")\n",
        "print(f\"Test score: {rf.score(X_test, y_test).round(2)}\")"
      ]
    },
    {
      "cell_type": "code",
      "execution_count": null,
      "metadata": {
        "colab": {
          "base_uri": "https://localhost:8080/"
        },
        "id": "_fcb6xZ--hBp",
        "outputId": "a00614c6-a405-4eba-9e18-9805d833cbf4"
      },
      "outputs": [],
      "source": [
        "pred=rf.predict(X_test)\n",
        "accuracy_score(y_test, pred)"
      ]
    },
    {
      "cell_type": "markdown",
      "metadata": {
        "id": "Qm0YWp_jMCyL"
      },
      "source": [
        "***No Feature Selection***"
      ]
    },
    {
      "cell_type": "code",
      "execution_count": null,
      "metadata": {
        "colab": {
          "base_uri": "https://localhost:8080/"
        },
        "id": "491s2G0El9zg",
        "outputId": "1288e354-e3a0-42df-e1d9-37e8fe5060b9"
      },
      "outputs": [],
      "source": [
        "rf=RandomForestClassifier(max_depth=10, random_state=0).fit(X_train, y_train)\n",
        "pred=rf.predict(X_test)\n",
        "accuracy_score(y_test, pred)"
      ]
    },
    {
      "cell_type": "code",
      "execution_count": null,
      "metadata": {
        "id": "AaFz6OeQl92e"
      },
      "outputs": [],
      "source": [
        "from sklearn.model_selection import RandomizedSearchCV"
      ]
    },
    {
      "cell_type": "code",
      "execution_count": null,
      "metadata": {
        "id": "FGm_6B8Dlv1X"
      },
      "outputs": [],
      "source": [
        "# Number of decision tree estimator to consider at every split\n",
        "n_estimators=[int(x) for x in np.linspace(start=100, stop=2000, num=20)]"
      ]
    },
    {
      "cell_type": "code",
      "execution_count": null,
      "metadata": {
        "id": "ovhzbEqomTPU"
      },
      "outputs": [],
      "source": [
        "# Number of features to consider at every split\n",
        "max_features=['auto', 'sqrt']"
      ]
    },
    {
      "cell_type": "code",
      "execution_count": null,
      "metadata": {
        "id": "5Tmx4UxrmTSU"
      },
      "outputs": [],
      "source": [
        "# Maximum number of levels in tree\n",
        "max_depth=[int(x) for x in np.linspace(10, 110, num=11)]\n",
        "max_depth.append(None)"
      ]
    },
    {
      "cell_type": "code",
      "execution_count": null,
      "metadata": {
        "id": "aALEQkXQmcDy"
      },
      "outputs": [],
      "source": [
        "# Minimum number of samples required to split a node\n",
        "min_samples_split=[2, 5, 10]\n",
        "# Minimum number of samples required at each leaf node\n",
        "min_samples_leaf=[1, 2, 4]\n",
        "# Method of selecting samples for training each tree\n",
        "bootstrap=[True, False]"
      ]
    },
    {
      "cell_type": "code",
      "execution_count": null,
      "metadata": {
        "colab": {
          "base_uri": "https://localhost:8080/"
        },
        "id": "4JyAIscgmTX0",
        "outputId": "a18080ba-e3f4-4338-d7a5-8e1fcabf69d0"
      },
      "outputs": [],
      "source": [
        "# Create random grid\n",
        "random_grid={'n_estimators': n_estimators,\n",
        "             'max_features': max_features,\n",
        "             'max_depth': max_depth,\n",
        "             'min_samples_split': min_samples_split,\n",
        "             'min_samples_leaf': min_samples_leaf,\n",
        "             'bootstrap': bootstrap}\n",
        "random_grid"
      ]
    },
    {
      "cell_type": "code",
      "execution_count": null,
      "metadata": {
        "colab": {
          "base_uri": "https://localhost:8080/"
        },
        "id": "Sfg77f06mmTJ",
        "outputId": "d0b86e8f-8fc9-4b29-d0f3-c3976f38d901"
      },
      "outputs": [],
      "source": [
        "rf=RandomForestClassifier()\n",
        "# Random search of parameters, using 10 fold cross validation and search across 30 different combinations, and use all available cores\n",
        "rand_search=RandomizedSearchCV(estimator=rf, param_distributions=random_grid, n_iter=30, cv=10, verbose=2, random_state=42, n_jobs=-1)\n",
        "rand_search.fit(X_train, y_train)"
      ]
    },
    {
      "cell_type": "code",
      "execution_count": null,
      "metadata": {
        "colab": {
          "base_uri": "https://localhost:8080/"
        },
        "id": "rHPnGB1Smtv0",
        "outputId": "1a7e9f38-4067-499c-d0cc-0a93a682fa63"
      },
      "outputs": [],
      "source": [
        "rand_search.best_params_"
      ]
    },
    {
      "cell_type": "code",
      "execution_count": null,
      "metadata": {
        "id": "EZQdvdWymtyb"
      },
      "outputs": [],
      "source": [
        "rf=RandomForestClassifier(n_estimators=1200, \n",
        "                          max_depth=30, \n",
        "                          bootstrap=False, \n",
        "                          max_features='auto', \n",
        "                          min_samples_leaf=1, \n",
        "                          min_samples_split=2).fit(X_train, y_train)"
      ]
    },
    {
      "cell_type": "code",
      "execution_count": null,
      "metadata": {
        "colab": {
          "base_uri": "https://localhost:8080/"
        },
        "id": "Rt5uhqTJpEgd",
        "outputId": "0fb03f2d-dd97-46b3-cbf4-cea32803b0b2"
      },
      "outputs": [],
      "source": [
        "print(f\"Training score: {rf.score(X_train, y_train).round(2)}\\n\")\n",
        "print(f\"Test score: {rf.score(X_test, y_test).round(2)}\")"
      ]
    },
    {
      "cell_type": "code",
      "execution_count": null,
      "metadata": {
        "colab": {
          "base_uri": "https://localhost:8080/"
        },
        "id": "MWEJvWe3pErM",
        "outputId": "26a68777-3d90-4d15-d7b3-b2ae173aa778"
      },
      "outputs": [],
      "source": [
        "pred=rf.predict(X_test)\n",
        "accuracy_score(y_test, pred)"
      ]
    },
    {
      "cell_type": "markdown",
      "metadata": {
        "id": "Jm8OtdelMKMy"
      },
      "source": [
        "***Random Forest Importance (Embedded Method)***"
      ]
    },
    {
      "cell_type": "code",
      "execution_count": null,
      "metadata": {
        "colab": {
          "base_uri": "https://localhost:8080/",
          "height": 502
        },
        "id": "lDrSimzEELLp",
        "outputId": "6a157e87-6cbc-4dda-9090-4b7d78bbb80d"
      },
      "outputs": [],
      "source": [
        "imp=rf.feature_importances_\n",
        "\n",
        "fi=pd.DataFrame({'features': X.columns, 'importance': imp}).sort_values('importance', ascending=False)\n",
        "plt.figure(figsize=(15, 8))\n",
        "sns.barplot(x='importance', y='features', data=fi)\n",
        "plt.show()"
      ]
    },
    {
      "cell_type": "code",
      "execution_count": null,
      "metadata": {
        "colab": {
          "base_uri": "https://localhost:8080/"
        },
        "id": "fgNjk8VvELQx",
        "outputId": "2a862ebb-34d9-42cc-cd4a-8c6f7cbc9f93"
      },
      "outputs": [],
      "source": [
        "imp_feat=list(fi['features'].head(21))\n",
        "X=df[imp_feat]\n",
        "y=df['Result']\n",
        "\n",
        "X=X/X.max()\n",
        "\n",
        "X_train, X_test, y_train, y_test=train_test_split(X, y, stratify=y, test_size=0.30, random_state=np.random.seed(10))\n",
        "X_train.shape, X_test.shape"
      ]
    },
    {
      "cell_type": "code",
      "execution_count": null,
      "metadata": {
        "colab": {
          "base_uri": "https://localhost:8080/"
        },
        "id": "wvmc-YCDELYB",
        "outputId": "cff34e82-64cb-4eff-f011-af8b59c32652"
      },
      "outputs": [],
      "source": [
        "rf=RandomForestClassifier()\n",
        "# Random search of parameters, using 10 fold cross validation and search across 30 different combinations, and use all available cores\n",
        "rand_search=RandomizedSearchCV(estimator=rf, param_distributions=random_grid, n_iter=30, cv=10, verbose=2, random_state=42, n_jobs=-1)\n",
        "rand_search.fit(X_train, y_train)"
      ]
    },
    {
      "cell_type": "code",
      "execution_count": null,
      "metadata": {
        "colab": {
          "base_uri": "https://localhost:8080/"
        },
        "id": "TU-Y4pO1FGx1",
        "outputId": "fda03853-1899-4a15-fecc-9c994954d862"
      },
      "outputs": [],
      "source": [
        "rand_search.best_params_"
      ]
    },
    {
      "cell_type": "code",
      "execution_count": null,
      "metadata": {
        "id": "YMq0Sa9hFG0s"
      },
      "outputs": [],
      "source": [
        "rf=RandomForestClassifier(n_estimators=1700, \n",
        "                          max_depth=60, \n",
        "                          bootstrap=False, \n",
        "                          max_features='sqrt', \n",
        "                          min_samples_leaf=2, \n",
        "                          min_samples_split=5).fit(X_train, y_train)"
      ]
    },
    {
      "cell_type": "code",
      "execution_count": null,
      "metadata": {
        "colab": {
          "base_uri": "https://localhost:8080/"
        },
        "id": "3RtU0lFZFG3U",
        "outputId": "b0942925-ff2e-49fd-8e53-86a47629f857"
      },
      "outputs": [],
      "source": [
        "print(f\"Training score: {rf.score(X_train, y_train).round(2)}\\n\")\n",
        "print(f\"Test score: {rf.score(X_test, y_test).round(2)}\")"
      ]
    },
    {
      "cell_type": "code",
      "execution_count": null,
      "metadata": {
        "colab": {
          "base_uri": "https://localhost:8080/"
        },
        "id": "SloOxrGtJ9ID",
        "outputId": "4c80de50-cf3f-4cb6-ced4-5913d79b76be"
      },
      "outputs": [],
      "source": [
        "pred=rf.predict(X_test)\n",
        "accuracy_score(y_test, pred)"
      ]
    },
    {
      "cell_type": "markdown",
      "metadata": {
        "id": "W3THNiptMVKB"
      },
      "source": [
        "***Correlation Coefficient (Filter Method)***"
      ]
    },
    {
      "cell_type": "code",
      "execution_count": null,
      "metadata": {
        "colab": {
          "base_uri": "https://localhost:8080/",
          "height": 1000
        },
        "id": "InkEnB38FMCy",
        "outputId": "38b7df88-524d-4f55-a8d3-e95a84ac4c7a"
      },
      "outputs": [],
      "source": [
        "plt.figure(figsize=(30, 20))\n",
        "sns.heatmap(df.corr(), annot=True, linewidths=.5, fmt='.2g')\n",
        "plt.show()"
      ]
    },
    {
      "cell_type": "code",
      "execution_count": null,
      "metadata": {
        "colab": {
          "base_uri": "https://localhost:8080/",
          "height": 1000
        },
        "id": "m2OOgktHF83Q",
        "outputId": "e2890294-196d-414d-be9a-af9aab868a2c"
      },
      "outputs": [],
      "source": [
        "corr=df.corr()\n",
        "filter_corr=corr[(corr >= .80) & (corr != 1)]\n",
        "plt.figure(figsize=(30, 20))\n",
        "sns.heatmap(filter_corr, annot=True, cmap='Reds', linewidths=.5, fmt='.2g')\n",
        "plt.show()"
      ]
    },
    {
      "cell_type": "code",
      "execution_count": null,
      "metadata": {
        "colab": {
          "base_uri": "https://localhost:8080/"
        },
        "id": "nuRB2orEIZBq",
        "outputId": "31b6712f-be96-40e2-8956-ef1b94e11ed4"
      },
      "outputs": [],
      "source": [
        "print(list(df.columns))"
      ]
    },
    {
      "cell_type": "code",
      "execution_count": null,
      "metadata": {
        "colab": {
          "base_uri": "https://localhost:8080/"
        },
        "id": "pLnl0JNoHGPs",
        "outputId": "0e2670dd-a5a9-4121-e860-948cd9cc214b"
      },
      "outputs": [],
      "source": [
        "obs_cols=df[['Shortining_Service', 'double_slash_redirecting', 'Favicon', 'port', 'popUpWidnow', 'Result']]\n",
        "print(obs_cols.corr()['Result'].sort_values(ascending=False)) "
      ]
    },
    {
      "cell_type": "code",
      "execution_count": null,
      "metadata": {
        "colab": {
          "base_uri": "https://localhost:8080/"
        },
        "id": "BE7cicwtJtge",
        "outputId": "a825f187-ef6e-4379-f984-bfdc8cb4aae0"
      },
      "outputs": [],
      "source": [
        "df.shape"
      ]
    },
    {
      "cell_type": "code",
      "execution_count": null,
      "metadata": {
        "colab": {
          "base_uri": "https://localhost:8080/"
        },
        "id": "qwNYqyQWJFpK",
        "outputId": "4678442c-865e-4c78-b21c-3f2034004bcf"
      },
      "outputs": [],
      "source": [
        "df.drop(['Favicon', 'popUpWidnow', 'Shortining_Service'], axis=1, inplace=True)\n",
        "df.shape"
      ]
    },
    {
      "cell_type": "code",
      "execution_count": null,
      "metadata": {
        "colab": {
          "base_uri": "https://localhost:8080/",
          "height": 1000
        },
        "id": "q2dZxJJuJwcm",
        "outputId": "07a19dd3-5766-44d1-8e11-cf024dd05e20"
      },
      "outputs": [],
      "source": [
        "corr=df.corr()\n",
        "filter_corr=corr[(corr >= .80) & (corr != 1)]\n",
        "plt.figure(figsize=(30, 20))\n",
        "sns.heatmap(filter_corr, annot=True, cmap='Reds', linewidths=.5, fmt='.2g')\n",
        "plt.show()"
      ]
    },
    {
      "cell_type": "code",
      "execution_count": null,
      "metadata": {
        "id": "qJEccNVFMGBM"
      },
      "outputs": [],
      "source": [
        "from sklearn.model_selection import train_test_split\n",
        "from sklearn.metrics import *"
      ]
    },
    {
      "cell_type": "code",
      "execution_count": null,
      "metadata": {
        "colab": {
          "base_uri": "https://localhost:8080/"
        },
        "id": "RWOn8gLmJ13g",
        "outputId": "c6a16774-27b8-49a2-ebb7-eaf38e8984bd"
      },
      "outputs": [],
      "source": [
        "X=df.drop('Result', axis=1)\n",
        "y=df['Result']\n",
        "X=X/X.max()\n",
        "\n",
        "X_train, X_test, y_train, y_test = train_test_split(X, y, stratify=y, test_size=0.30, random_state=np.random.seed(10))\n",
        "X_train.shape, X_test.shape"
      ]
    },
    {
      "cell_type": "code",
      "execution_count": null,
      "metadata": {
        "id": "w1QgehdgFHmQ"
      },
      "outputs": [],
      "source": [
        "from sklearn.ensemble import RandomForestClassifier"
      ]
    },
    {
      "cell_type": "code",
      "execution_count": null,
      "metadata": {
        "id": "TqrlpwzkLyzu"
      },
      "outputs": [],
      "source": [
        "rf=RandomForestClassifier().fit(X_train, y_train)"
      ]
    },
    {
      "cell_type": "code",
      "execution_count": null,
      "metadata": {
        "colab": {
          "base_uri": "https://localhost:8080/"
        },
        "id": "z8vj9WIyi_Zf",
        "outputId": "598e73c8-510d-46c3-c833-8caf02171a56"
      },
      "outputs": [],
      "source": [
        "print(f\"Training score: {rf.score(X_train, y_train).round(2)}\\n\")\n",
        "print(f\"Test score: {rf.score(X_test, y_test).round(2)}\")"
      ]
    },
    {
      "cell_type": "code",
      "execution_count": null,
      "metadata": {
        "colab": {
          "base_uri": "https://localhost:8080/"
        },
        "id": "ec6WX-5mi_dE",
        "outputId": "51bd9e3a-0d38-43b6-e43b-d6a508da14f9"
      },
      "outputs": [],
      "source": [
        "pred=rf.predict(X_test)\n",
        "accuracy_score(y_test, pred)"
      ]
    },
    {
      "cell_type": "code",
      "execution_count": null,
      "metadata": {
        "colab": {
          "base_uri": "https://localhost:8080/"
        },
        "id": "hPydTcytMX7F",
        "outputId": "bd49b598-637f-4f36-de2c-afdf415ee1a1"
      },
      "outputs": [],
      "source": [
        "print(rf.get_params())"
      ]
    },
    {
      "cell_type": "code",
      "execution_count": null,
      "metadata": {
        "colab": {
          "base_uri": "https://localhost:8080/"
        },
        "id": "gjVM5fYqNcyX",
        "outputId": "4a866772-470c-49dd-cc0e-61315c47bbd6"
      },
      "outputs": [],
      "source": [
        "# Create random grid\n",
        "random_grid={'n_estimators': n_estimators,\n",
        "             'max_features': max_features,\n",
        "             'max_depth': max_depth,\n",
        "             'min_samples_split': min_samples_split,\n",
        "             'min_samples_leaf': min_samples_leaf,\n",
        "             'bootstrap': bootstrap}\n",
        "random_grid"
      ]
    },
    {
      "cell_type": "code",
      "execution_count": null,
      "metadata": {
        "colab": {
          "base_uri": "https://localhost:8080/"
        },
        "id": "OfYCWegJN1o-",
        "outputId": "1d2f8a8f-8b72-4485-f482-d00f93cd010a"
      },
      "outputs": [],
      "source": [
        "rf=RandomForestClassifier()\n",
        "# Random search of parameters, using 10 fold cross validation and search across 30 different combinations, and use all available cores\n",
        "rand_search=RandomizedSearchCV(estimator=rf, param_distributions=random_grid, n_iter=30, cv=10, verbose=2, random_state=42, n_jobs=-1)\n",
        "rand_search.fit(X_train, y_train)"
      ]
    },
    {
      "cell_type": "code",
      "execution_count": null,
      "metadata": {
        "colab": {
          "base_uri": "https://localhost:8080/"
        },
        "id": "J44bkiuwPHdv",
        "outputId": "ea192c1e-4108-45a8-a755-2c5711f2eb6a"
      },
      "outputs": [],
      "source": [
        "rand_search.best_params_"
      ]
    },
    {
      "cell_type": "code",
      "execution_count": null,
      "metadata": {
        "id": "n0zShf5LuvbD"
      },
      "outputs": [],
      "source": [
        "rf=RandomForestClassifier(n_estimators=1900, \n",
        "                          max_depth=80, \n",
        "                          bootstrap=True, \n",
        "                          max_features='auto', \n",
        "                          min_samples_leaf=1, \n",
        "                          min_samples_split=5).fit(X_train, y_train)"
      ]
    },
    {
      "cell_type": "code",
      "execution_count": null,
      "metadata": {
        "colab": {
          "base_uri": "https://localhost:8080/"
        },
        "id": "V5qTHcssz_NP",
        "outputId": "8b1873fa-6364-454f-8d3c-c538f50a0659"
      },
      "outputs": [],
      "source": [
        "print(f\"Training score: {rf.score(X_train, y_train).round(2)}\\n\")\n",
        "print(f\"Test score: {rf.score(X_test, y_test).round(2)}\")"
      ]
    },
    {
      "cell_type": "code",
      "execution_count": null,
      "metadata": {
        "colab": {
          "base_uri": "https://localhost:8080/"
        },
        "id": "WHHlv4YM0eEq",
        "outputId": "d2805740-e852-4bcf-9e80-92ee853ae126"
      },
      "outputs": [],
      "source": [
        "pred=rf.predict(X_test)\n",
        "accuracy_score(y_test, pred)"
      ]
    },
    {
      "cell_type": "code",
      "execution_count": null,
      "metadata": {
        "colab": {
          "base_uri": "https://localhost:8080/"
        },
        "id": "VGGBC1ch0rXk",
        "outputId": "a3702d7d-8109-4125-fd80-c056f657b731"
      },
      "outputs": [],
      "source": [
        "import joblib\n",
        "model=r\"randomforest.pkl\"\n",
        "joblib.dump(rf, model)"
      ]
    },
    {
      "cell_type": "code",
      "execution_count": null,
      "metadata": {
        "colab": {
          "base_uri": "https://localhost:8080/",
          "height": 34
        },
        "id": "aJ3jM4KT1rVs",
        "outputId": "b8c6d090-e57a-4bdd-87d2-1c4d1bced35c"
      },
      "outputs": [],
      "source": [
        "files.download('randomforest.pkl')"
      ]
    },
    {
      "cell_type": "markdown",
      "metadata": {
        "id": "6LJQ6aRbfDz7"
      },
      "source": [
        "***Step-wise Feature selection (Wrapper)***"
      ]
    },
    {
      "cell_type": "code",
      "execution_count": null,
      "metadata": {
        "colab": {
          "base_uri": "https://localhost:8080/"
        },
        "id": "Tw1UQsYxT5KO",
        "outputId": "0648398e-1907-45d0-93d3-231e99df8762"
      },
      "outputs": [],
      "source": [
        "rf=RandomForestClassifier()\n",
        "# Random search of parameters, using 10 fold cross validation and search across 30 different combinations, and use all available cores\n",
        "rand_search=RandomizedSearchCV(estimator=rf, param_distributions=random_grid, n_iter=30, cv=10, verbose=2, random_state=42, n_jobs=-1)\n",
        "rand_search.fit(X, y)\n",
        "print(rand_search.best_params_)"
      ]
    },
    {
      "cell_type": "code",
      "execution_count": null,
      "metadata": {
        "id": "dKxxNDF9E9wT"
      },
      "outputs": [],
      "source": [
        "import joblib\n",
        "import sys\n",
        "sys.modules['sklearn.externals.joblib']=joblib\n",
        "from mlxtend.feature_selection import SequentialFeatureSelector as SFS"
      ]
    },
    {
      "cell_type": "code",
      "execution_count": null,
      "metadata": {
        "colab": {
          "base_uri": "https://localhost:8080/"
        },
        "id": "CmErJ-X0HgOw",
        "outputId": "94e9c676-aa3c-4beb-8be0-74c57298f916"
      },
      "outputs": [],
      "source": [
        "X.columns"
      ]
    },
    {
      "cell_type": "code",
      "execution_count": null,
      "metadata": {
        "id": "vMwoHtwqOK3v"
      },
      "outputs": [],
      "source": [
        "X_fi=X.values\n",
        "y_fi=y.values"
      ]
    },
    {
      "cell_type": "code",
      "execution_count": null,
      "metadata": {
        "colab": {
          "base_uri": "https://localhost:8080/"
        },
        "id": "z-R6qD7IOHnu",
        "outputId": "5a4a1cd5-a4ed-4a88-86e6-0527ce79858d"
      },
      "outputs": [],
      "source": [
        "sffs=SFS(RandomForestClassifier(n_estimators=1200, \n",
        "                          max_depth=30, \n",
        "                          bootstrap=False, \n",
        "                          max_features='auto', \n",
        "                          min_samples_leaf=1, \n",
        "                          min_samples_split=2), \n",
        "         k_features=X.shape[1], forward=True, floating=True, scoring='accuracy', cv=0)\n",
        "sffs.fit(X_fi, y_fi, custom_feature_names=X.columns)"
      ]
    },
    {
      "cell_type": "code",
      "execution_count": null,
      "metadata": {
        "colab": {
          "base_uri": "https://localhost:8080/",
          "height": 990
        },
        "id": "9kcBoxFcf-Bf",
        "outputId": "1ffc06c5-a663-4a60-8a0f-75da88699bc7"
      },
      "outputs": [],
      "source": [
        "sffs_df=pd.DataFrame(sffs.subsets_).transpose()\n",
        "sffs_df"
      ]
    },
    {
      "cell_type": "code",
      "execution_count": null,
      "metadata": {
        "colab": {
          "base_uri": "https://localhost:8080/"
        },
        "id": "FlwXfPcIgIDS",
        "outputId": "eba17bdd-ed4b-4df3-881c-516ee5601ec6"
      },
      "outputs": [],
      "source": [
        "sffs_df.avg_score.sort_values(ascending=False)"
      ]
    },
    {
      "cell_type": "code",
      "execution_count": null,
      "metadata": {
        "colab": {
          "base_uri": "https://localhost:8080/"
        },
        "id": "8KnKICr7hVGG",
        "outputId": "f4315eae-1de8-4907-ea08-393f5becb0aa"
      },
      "outputs": [],
      "source": [
        "sffs_df['feature_names'].loc[23]"
      ]
    },
    {
      "cell_type": "code",
      "execution_count": null,
      "metadata": {
        "colab": {
          "base_uri": "https://localhost:8080/",
          "height": 17
        },
        "id": "Fgdd_0a7jfsB",
        "outputId": "6f2dbdd9-7e4e-4728-aa62-f151df4e0a0f"
      },
      "outputs": [],
      "source": [
        "sffs_df.to_csv('Important_features.csv', index=False)\n",
        "files.download('Important_features.csv')"
      ]
    },
    {
      "cell_type": "code",
      "execution_count": null,
      "metadata": {
        "colab": {
          "base_uri": "https://localhost:8080/"
        },
        "id": "Vxub2RRdj_Ci",
        "outputId": "d1198461-0db7-4166-da4a-6c713f3133b7"
      },
      "outputs": [],
      "source": [
        "type(sffs_df['feature_names'].loc[23])"
      ]
    },
    {
      "cell_type": "code",
      "execution_count": null,
      "metadata": {
        "colab": {
          "base_uri": "https://localhost:8080/"
        },
        "id": "1f-DxvsMkP59",
        "outputId": "2f85b04a-6c02-49e9-9b72-8f19f24e0a55"
      },
      "outputs": [],
      "source": [
        "IF=list(sffs_df['feature_names'].loc[23])\n",
        "IF"
      ]
    },
    {
      "cell_type": "code",
      "execution_count": null,
      "metadata": {
        "colab": {
          "base_uri": "https://localhost:8080/"
        },
        "id": "L_8NfM5jkaMj",
        "outputId": "54b65ad2-005c-4063-897a-168dd1e0d2db"
      },
      "outputs": [],
      "source": [
        "type(np.array(IF))"
      ]
    },
    {
      "cell_type": "code",
      "execution_count": null,
      "metadata": {
        "colab": {
          "base_uri": "https://localhost:8080/"
        },
        "id": "RedkLS_WkjQp",
        "outputId": "683a7ddc-c387-4d69-bb39-e78767a8488d"
      },
      "outputs": [],
      "source": [
        "X=df[IF]\n",
        "y=df['Result']\n",
        "\n",
        "\n",
        "X=X/X.max()\n",
        "\n",
        "X_train, X_test, y_train, y_test=train_test_split(X, y, stratify=y, test_size=0.30, random_state=np.random.seed(10))\n",
        "X_train.shape, X_test.shape"
      ]
    },
    {
      "cell_type": "code",
      "execution_count": null,
      "metadata": {
        "colab": {
          "base_uri": "https://localhost:8080/"
        },
        "id": "xvMGy5S20ipA",
        "outputId": "3f199889-8402-4751-ce12-b5122c0591f9"
      },
      "outputs": [],
      "source": [
        "rf=RandomForestClassifier()\n",
        "# Random search of parameters, using 10 fold cross validation and search across 30 different combinations, and use all available cores\n",
        "rand_search=RandomizedSearchCV(estimator=rf, param_distributions=random_grid, n_iter=30, cv=10, verbose=2, random_state=42, n_jobs=-1)\n",
        "rand_search.fit(X_train, y_train)"
      ]
    },
    {
      "cell_type": "code",
      "execution_count": null,
      "metadata": {
        "colab": {
          "base_uri": "https://localhost:8080/"
        },
        "id": "aQxnyCck0i9R",
        "outputId": "d9d2db0c-7c99-48af-fa0d-6a781a5e97f5"
      },
      "outputs": [],
      "source": [
        "rand_search.best_params_"
      ]
    },
    {
      "cell_type": "code",
      "execution_count": null,
      "metadata": {
        "id": "NXAPXjbvmPAo"
      },
      "outputs": [],
      "source": [
        "rf=RandomForestClassifier(n_estimators=1200, \n",
        "                          max_depth=30, \n",
        "                          bootstrap=False, \n",
        "                          max_features='auto', \n",
        "                          min_samples_leaf=1, \n",
        "                          min_samples_split=2).fit(X_train, y_train)"
      ]
    },
    {
      "cell_type": "code",
      "execution_count": null,
      "metadata": {
        "colab": {
          "base_uri": "https://localhost:8080/"
        },
        "id": "-vQVHI8xmVRs",
        "outputId": "70fd9704-f4a1-4106-c580-d94c8a1f55a5"
      },
      "outputs": [],
      "source": [
        "print(f\"Training score: {rf.score(X_train, y_train).round(2)}\\n\")\n",
        "print(f\"Test score: {rf.score(X_test, y_test).round(2)}\")"
      ]
    },
    {
      "cell_type": "code",
      "execution_count": null,
      "metadata": {
        "colab": {
          "base_uri": "https://localhost:8080/"
        },
        "id": "N2FgtFoemadN",
        "outputId": "4a70d823-7b74-4419-eb5b-e7280cf16ede"
      },
      "outputs": [],
      "source": [
        "pred=rf.predict(X_test)\n",
        "accuracy_score(y_test, pred)"
      ]
    },
    {
      "cell_type": "markdown",
      "metadata": {
        "id": "hf0MlJ92fOfp"
      },
      "source": [
        "***Information Gain***"
      ]
    },
    {
      "cell_type": "code",
      "execution_count": null,
      "metadata": {
        "colab": {
          "base_uri": "https://localhost:8080/"
        },
        "id": "1C94FiClmiSk",
        "outputId": "3677587b-dbf5-489d-9d9e-cfa2e0e1277e"
      },
      "outputs": [],
      "source": [
        "X=df.drop('Result', axis=1)\n",
        "y=df['Result']\n",
        "X=X/X.max()\n",
        "\n",
        "X_train, X_test, y_train, y_test=train_test_split(X, y, stratify=y, test_size=0.30, random_state=np.random.seed(10))\n",
        "X_train.shape, X_test.shape"
      ]
    },
    {
      "cell_type": "code",
      "execution_count": null,
      "metadata": {
        "id": "apJeHVG0fLTf"
      },
      "outputs": [],
      "source": [
        "from sklearn.feature_selection import mutual_info_classif"
      ]
    },
    {
      "cell_type": "code",
      "execution_count": null,
      "metadata": {
        "id": "OSD0knzYfhrk"
      },
      "outputs": [],
      "source": [
        "imp=mutual_info_classif(X, y)\n",
        "fi=pd.DataFrame({'features':df.columns[0: len(df.columns)-1], 'importance':imp}).sort_values('importance', ascending=False)"
      ]
    },
    {
      "cell_type": "code",
      "execution_count": null,
      "metadata": {
        "colab": {
          "base_uri": "https://localhost:8080/",
          "height": 502
        },
        "id": "coQXllB4gapz",
        "outputId": "d9f1c6f4-f61f-4e9e-f262-3d22608b9a9c"
      },
      "outputs": [],
      "source": [
        "plt.figure(figsize=(15, 8))\n",
        "sns.barplot(x='importance', y='features', data=fi)\n",
        "plt.show()"
      ]
    },
    {
      "cell_type": "code",
      "execution_count": null,
      "metadata": {
        "id": "_DCW_t8hirlu"
      },
      "outputs": [],
      "source": [
        "imp_feat=list(fi['features'].head(18))"
      ]
    },
    {
      "cell_type": "code",
      "execution_count": null,
      "metadata": {
        "colab": {
          "base_uri": "https://localhost:8080/"
        },
        "id": "l4TBZcdTiyyr",
        "outputId": "cdc95c96-5311-46ed-ee7b-83ec110079c9"
      },
      "outputs": [],
      "source": [
        "X=df[imp_feat]\n",
        "y=df['Result']\n",
        "\n",
        "\n",
        "X=X/X.max()\n",
        "\n",
        "X_train, X_test, y_train, y_test=train_test_split(X, y, stratify=y, test_size=0.30, random_state=np.random.seed(10))\n",
        "X_train.shape, X_test.shape"
      ]
    },
    {
      "cell_type": "code",
      "execution_count": null,
      "metadata": {
        "id": "_PnW1XMlkZNE"
      },
      "outputs": [],
      "source": [
        "rf=RandomForestClassifier().fit(X_train, y_train)"
      ]
    },
    {
      "cell_type": "code",
      "execution_count": null,
      "metadata": {
        "colab": {
          "base_uri": "https://localhost:8080/"
        },
        "id": "6dLI7BI7kZP1",
        "outputId": "8bf47a9b-cf62-4018-d79c-46f0e735e025"
      },
      "outputs": [],
      "source": [
        "print(f\"Training score: {rf.score(X_train, y_train).round(2)}\\n\")\n",
        "print(f\"Test score: {rf.score(X_test, y_test).round(2)}\")"
      ]
    },
    {
      "cell_type": "code",
      "execution_count": null,
      "metadata": {
        "colab": {
          "base_uri": "https://localhost:8080/"
        },
        "id": "8zMY2rPJkZTF",
        "outputId": "85e7e865-b66d-4d86-b6fe-53f9afe449a8"
      },
      "outputs": [],
      "source": [
        "pred=rf.predict(X_test)\n",
        "accuracy_score(y_test, pred)"
      ]
    },
    {
      "cell_type": "code",
      "execution_count": null,
      "metadata": {
        "colab": {
          "base_uri": "https://localhost:8080/"
        },
        "id": "1c93da-fstFM",
        "outputId": "63e29ee9-7cd5-401b-d7f7-9be999ef103a"
      },
      "outputs": [],
      "source": [
        "rf=RandomForestClassifier()\n",
        "# Random search of parameters, using 10 fold cross validation and search across 30 different combinations, and use all available cores\n",
        "rand_search=RandomizedSearchCV(estimator=rf, param_distributions=random_grid, n_iter=30, cv=10, verbose=2, random_state=42, n_jobs=-1)\n",
        "rand_search.fit(X_train, y_train)"
      ]
    },
    {
      "cell_type": "code",
      "execution_count": null,
      "metadata": {
        "colab": {
          "base_uri": "https://localhost:8080/"
        },
        "id": "WUYRXQuRxBME",
        "outputId": "5e49a988-770f-440b-bf35-7619267072d7"
      },
      "outputs": [],
      "source": [
        "rand_search.best_params_"
      ]
    },
    {
      "cell_type": "code",
      "execution_count": null,
      "metadata": {
        "id": "ZMSJ4NPxi_p5"
      },
      "outputs": [],
      "source": [
        "rf=RandomForestClassifier(n_estimators=1200, \n",
        "                          max_depth=30, \n",
        "                          bootstrap=False, \n",
        "                          max_features='auto', \n",
        "                          min_samples_leaf=1, \n",
        "                          min_samples_split=2).fit(X_train, y_train)"
      ]
    },
    {
      "cell_type": "code",
      "execution_count": null,
      "metadata": {
        "colab": {
          "base_uri": "https://localhost:8080/"
        },
        "id": "ZWLH0GmVjICH",
        "outputId": "b5379e37-3d93-4a7b-80c4-6762ef9e1ab4"
      },
      "outputs": [],
      "source": [
        "print(f\"Training score: {rf.score(X_train, y_train).round(2)}\\n\")\n",
        "print(f\"Test score: {rf.score(X_test, y_test).round(2)}\")"
      ]
    },
    {
      "cell_type": "code",
      "execution_count": null,
      "metadata": {
        "colab": {
          "base_uri": "https://localhost:8080/"
        },
        "id": "ssXmiF9vjLqp",
        "outputId": "3933af01-1c7f-45dd-acc9-e3b5d5a23ce1"
      },
      "outputs": [],
      "source": [
        "pred=rf.predict(X_test)\n",
        "accuracy_score(y_test, pred)"
      ]
    },
    {
      "cell_type": "markdown",
      "metadata": {
        "id": "u_j4SDvl2Y4Q"
      },
      "source": [
        "***Chi Square***"
      ]
    },
    {
      "cell_type": "code",
      "execution_count": null,
      "metadata": {
        "id": "JbzclTFCjYnp"
      },
      "outputs": [],
      "source": [
        "from sklearn.feature_selection import SelectKBest\n",
        "from sklearn.feature_selection import chi2"
      ]
    },
    {
      "cell_type": "code",
      "execution_count": null,
      "metadata": {
        "id": "H_GXjSMvlkj7"
      },
      "outputs": [],
      "source": [
        "X=df.drop('Result', axis=1)\n",
        "y=df['Result']"
      ]
    },
    {
      "cell_type": "code",
      "execution_count": null,
      "metadata": {
        "id": "Vi1zG0uO3Osj"
      },
      "outputs": [],
      "source": [
        "for x in X.columns:\n",
        "  X[x] = X[x].replace(-1, 2)"
      ]
    },
    {
      "cell_type": "code",
      "execution_count": null,
      "metadata": {
        "colab": {
          "base_uri": "https://localhost:8080/"
        },
        "id": "BkABbYhYltBX",
        "outputId": "d3ec2d18-aa05-45e2-91af-b7d31ee0d6d4"
      },
      "outputs": [],
      "source": [
        "X.shape"
      ]
    },
    {
      "cell_type": "code",
      "execution_count": null,
      "metadata": {
        "colab": {
          "base_uri": "https://localhost:8080/"
        },
        "id": "IrDth6Q22b6B",
        "outputId": "83626303-fd18-4d93-8dec-65cdcec97fa2"
      },
      "outputs": [],
      "source": [
        "chi_t=SelectKBest(score_func=chi2, k=X.shape[1])\n",
        "chi_t.fit(X, y)"
      ]
    },
    {
      "cell_type": "code",
      "execution_count": null,
      "metadata": {
        "colab": {
          "base_uri": "https://localhost:8080/",
          "height": 502
        },
        "id": "yv00mkXf20aW",
        "outputId": "aed22c96-6dfe-4e2b-a8c6-620c14a2a9cc"
      },
      "outputs": [],
      "source": [
        "fi=pd.DataFrame({'features': X.columns, 'importance': chi_t.scores_}).sort_values('importance', ascending=False)\n",
        "plt.figure(figsize=(15, 8))\n",
        "sns.barplot(x='importance', y='features', data=fi)\n",
        "plt.show()"
      ]
    },
    {
      "cell_type": "code",
      "execution_count": null,
      "metadata": {
        "colab": {
          "base_uri": "https://localhost:8080/"
        },
        "id": "xcsV9Gsi4L1a",
        "outputId": "c3491132-381b-4ca1-baa7-5717bee5d5e7"
      },
      "outputs": [],
      "source": [
        "imp_feat=list(fi['features'].head(16))\n",
        "X=df[imp_feat]\n",
        "y=df['Result']\n",
        "for x in X.columns:\n",
        "  X[x] = X[x].replace(-1, 2)\n",
        "\n",
        "X=X/X.max()\n",
        "\n",
        "X_train, X_test, y_train, y_test=train_test_split(X, y, stratify=y, test_size=0.30, random_state=np.random.seed(10))\n",
        "X_train.shape, X_test.shape"
      ]
    },
    {
      "cell_type": "code",
      "execution_count": null,
      "metadata": {
        "id": "BwS7trS-l48l"
      },
      "outputs": [],
      "source": [
        "rf=RandomForestClassifier().fit(X_train, y_train)"
      ]
    },
    {
      "cell_type": "code",
      "execution_count": null,
      "metadata": {
        "colab": {
          "base_uri": "https://localhost:8080/"
        },
        "id": "ghlCX8TGl5bN",
        "outputId": "8785230f-0e98-4355-90ca-000667d97e60"
      },
      "outputs": [],
      "source": [
        "print(f\"Training score: {rf.score(X_train, y_train).round(2)}\\n\")\n",
        "print(f\"Test score: {rf.score(X_test, y_test).round(2)}\")"
      ]
    },
    {
      "cell_type": "code",
      "execution_count": null,
      "metadata": {
        "colab": {
          "base_uri": "https://localhost:8080/"
        },
        "id": "Pg1cRKMkl5fM",
        "outputId": "a8cdbb54-f188-4807-c623-e852807241e2"
      },
      "outputs": [],
      "source": [
        "pred=rf.predict(X_test)\n",
        "accuracy_score(y_test, pred)"
      ]
    },
    {
      "cell_type": "code",
      "execution_count": null,
      "metadata": {
        "id": "siXyt8Pm4coG"
      },
      "outputs": [],
      "source": [
        "rf=RandomForestClassifier()\n",
        "# Random search of parameters, using 10 fold cross validation and search across 30 different combinations, and use all available cores\n",
        "rand_search=RandomizedSearchCV(estimator=rf, param_distributions=random_grid, n_iter=30, cv=10, verbose=2, random_state=42, n_jobs=-1)\n",
        "rand_search.fit(X_train, y_train)"
      ]
    },
    {
      "cell_type": "code",
      "execution_count": null,
      "metadata": {
        "colab": {
          "base_uri": "https://localhost:8080/"
        },
        "id": "rAq-II3j9qgj",
        "outputId": "366c7313-22e8-44e7-a90d-4b697fbbdab0"
      },
      "outputs": [],
      "source": [
        "rand_search.best_params_"
      ]
    },
    {
      "cell_type": "code",
      "execution_count": null,
      "metadata": {
        "id": "-pno9dqC9rLz"
      },
      "outputs": [],
      "source": [
        "rf=RandomForestClassifier(n_estimators=1200, \n",
        "                          max_depth=30, \n",
        "                          bootstrap=False, \n",
        "                          max_features='auto', \n",
        "                          min_samples_leaf=1, \n",
        "                          min_samples_split=2).fit(X_train, y_train)"
      ]
    },
    {
      "cell_type": "code",
      "execution_count": null,
      "metadata": {
        "colab": {
          "base_uri": "https://localhost:8080/"
        },
        "id": "SBRAO_mK4mVc",
        "outputId": "080102a8-bb35-4290-bdde-432e33a75326"
      },
      "outputs": [],
      "source": [
        "print(f\"Training score: {rf.score(X_train, y_train).round(2)}\\n\")\n",
        "print(f\"Test score: {rf.score(X_test, y_test).round(2)}\")"
      ]
    },
    {
      "cell_type": "code",
      "execution_count": null,
      "metadata": {
        "colab": {
          "base_uri": "https://localhost:8080/"
        },
        "id": "C_42FLHk4roD",
        "outputId": "86831410-137b-4cc8-ce08-d6a781bde099"
      },
      "outputs": [],
      "source": [
        "pred=rf.predict(X_test)\n",
        "accuracy_score(y_test, pred)"
      ]
    },
    {
      "cell_type": "code",
      "execution_count": null,
      "metadata": {
        "id": "RY3hJtJof_3q"
      },
      "outputs": [],
      "source": [
        "rf=RandomForestClassifier(n_estimators=1900, \n",
        "                          max_depth=80, \n",
        "                          bootstrap=True, \n",
        "                          max_features='auto', \n",
        "                          min_samples_leaf=1, \n",
        "                          min_samples_split=5).fit(X_train, y_train)"
      ]
    },
    {
      "cell_type": "code",
      "execution_count": null,
      "metadata": {
        "colab": {
          "base_uri": "https://localhost:8080/"
        },
        "id": "4o_N_RN0gAmZ",
        "outputId": "0156b869-cf47-4ffe-9f7c-07f41bdb078f"
      },
      "outputs": [],
      "source": [
        "print(f\"Training score: {rf.score(X_train, y_train).round(2)}\\n\")\n",
        "print(f\"Test score: {rf.score(X_test, y_test).round(2)}\")"
      ]
    },
    {
      "cell_type": "code",
      "execution_count": null,
      "metadata": {
        "colab": {
          "base_uri": "https://localhost:8080/"
        },
        "id": "HrqPVpoYgjBG",
        "outputId": "4e4ee363-66fc-4eed-8258-7d77539f2dec"
      },
      "outputs": [],
      "source": [
        "pred=rf.predict(X_test)\n",
        "accuracy_score(y_test, pred)"
      ]
    },
    {
      "cell_type": "code",
      "execution_count": null,
      "metadata": {
        "colab": {
          "base_uri": "https://localhost:8080/",
          "height": 378
        },
        "id": "MLTHamJjglf3",
        "outputId": "8a8aa81d-8a64-48bf-dd35-f452eb205694"
      },
      "outputs": [],
      "source": [
        "plt.figure(figsize=(16, 6))\n",
        "sns.heatmap(confusion_matrix(y_test, pred), annot=True, fmt='g')\n",
        "plt.show()"
      ]
    },
    {
      "cell_type": "code",
      "execution_count": null,
      "metadata": {
        "colab": {
          "base_uri": "https://localhost:8080/"
        },
        "id": "ejtvL_u_g5mZ",
        "outputId": "27ae187e-ab04-4ce5-f4e4-410be334964a"
      },
      "outputs": [],
      "source": [
        "print(classification_report(y_test, pred, target_names=['Phishing', 'Real']))"
      ]
    },
    {
      "cell_type": "code",
      "execution_count": null,
      "metadata": {
        "colab": {
          "base_uri": "https://localhost:8080/",
          "height": 17
        },
        "id": "cSd1YOd9hIrU",
        "outputId": "8ec70434-77ec-4c6e-a4cb-11ea88287865"
      },
      "outputs": [],
      "source": [
        "import joblib\n",
        "model=r\"randomforest.pkl\"\n",
        "joblib.dump(rf, model)\n",
        "\n",
        "files.download('randomforest.pkl')"
      ]
    },
    {
      "cell_type": "markdown",
      "metadata": {
        "id": "lxNEG7xKiYnh"
      },
      "source": [
        "### ***Light Gradient Boosted Machine***"
      ]
    },
    {
      "cell_type": "code",
      "execution_count": null,
      "metadata": {
        "id": "NAa_SpLjh_ol"
      },
      "outputs": [],
      "source": [
        "from lightgbm import LGBMClassifier"
      ]
    },
    {
      "cell_type": "code",
      "execution_count": null,
      "metadata": {
        "id": "pc87uh_9-67q"
      },
      "outputs": [],
      "source": [
        "lgb=LGBMClassifier().fit(X_train, y_train)"
      ]
    },
    {
      "cell_type": "code",
      "execution_count": null,
      "metadata": {
        "colab": {
          "base_uri": "https://localhost:8080/"
        },
        "id": "MkT75tIs_C5k",
        "outputId": "f10832c9-7d06-40ff-db92-57ce4e8aab3e"
      },
      "outputs": [],
      "source": [
        "print(f\"Training score: {lgb.score(X_train, y_train).round(2)}\\n\")\n",
        "print(f\"Test score: {lgb.score(X_test, y_test).round(2)}\")"
      ]
    },
    {
      "cell_type": "code",
      "execution_count": null,
      "metadata": {
        "colab": {
          "base_uri": "https://localhost:8080/"
        },
        "id": "fBsBf8EM_C9Y",
        "outputId": "9214ef5b-e6ef-4a0f-8cc6-34cdd47dc6f0"
      },
      "outputs": [],
      "source": [
        "pred=rf.predict(X_test)\n",
        "accuracy_score(y_test, pred)"
      ]
    },
    {
      "cell_type": "code",
      "execution_count": null,
      "metadata": {
        "colab": {
          "base_uri": "https://localhost:8080/"
        },
        "id": "Bg0TCIop_zwt",
        "outputId": "17fc7cee-4dfe-4040-dbac-fa849d315160"
      },
      "outputs": [],
      "source": [
        "X_test.shape"
      ]
    },
    {
      "cell_type": "code",
      "execution_count": null,
      "metadata": {
        "colab": {
          "base_uri": "https://localhost:8080/"
        },
        "id": "Z8NuN6KSorM2",
        "outputId": "2aaf48e7-814b-4cbb-f800-5df5cf70fe60"
      },
      "outputs": [],
      "source": [
        "from sklearn.model_selection import RandomizedSearchCV\n",
        "# Number of trees in random forest\n",
        "n_estimators=[int(x) for x in np.linspace(start=100, stop=2000, num=20)]\n",
        "\n",
        "# Maximum number of levels in tree\n",
        "max_depth = [int(x) for x in np.linspace(10, 110, num = 11)]\n",
        "max_depth.append(None)\n",
        "\n",
        "#learning rate\n",
        "learning_rate=[0.01, 0.1, 1]\n",
        "# Create the random grid\n",
        "random_grid={'n_estimators': n_estimators,\n",
        "             'max_depth': max_depth,\n",
        "             'learning_rate': learning_rate}\n",
        "random_grid"
      ]
    },
    {
      "cell_type": "markdown",
      "metadata": {
        "id": "E_n61zXp2efa"
      },
      "source": [
        "***No Feature Selection***"
      ]
    },
    {
      "cell_type": "code",
      "execution_count": null,
      "metadata": {
        "colab": {
          "base_uri": "https://localhost:8080/"
        },
        "id": "OO4vMeyCorPV",
        "outputId": "16d9c84f-b97d-495e-e6bb-8b6001a9cdfb"
      },
      "outputs": [],
      "source": [
        "lgb=LGBMClassifier()\n",
        "# Random search of parameters, using 10 fold cross validation and search across 30 different combinations, and use all available cores\n",
        "rand_search=RandomizedSearchCV(estimator=lgb, param_distributions=random_grid, n_iter=30, cv=10, verbose=2, random_state=42, n_jobs=-1)\n",
        "rand_search.fit(X_train, y_train)"
      ]
    },
    {
      "cell_type": "code",
      "execution_count": null,
      "metadata": {
        "colab": {
          "base_uri": "https://localhost:8080/"
        },
        "id": "IYd16z3Pq_hJ",
        "outputId": "017c27a1-4c87-449f-c37e-d34dc0db3dca"
      },
      "outputs": [],
      "source": [
        "rand_search.best_params_"
      ]
    },
    {
      "cell_type": "code",
      "execution_count": null,
      "metadata": {
        "id": "7bGGhYXJnnMR"
      },
      "outputs": [],
      "source": [
        "lgb=LGBMClassifier(max_depth=110, n_estimators=700, learning_rate=0.1).fit(X_train, y_train)"
      ]
    },
    {
      "cell_type": "code",
      "execution_count": null,
      "metadata": {
        "colab": {
          "base_uri": "https://localhost:8080/"
        },
        "id": "esIykwJ3oLcQ",
        "outputId": "f1b4df92-256d-42ef-e230-f4fbb9e63e81"
      },
      "outputs": [],
      "source": [
        "print(f\"Training score: {lgb.score(X_train, y_train).round(2)}\\n\")\n",
        "print(f\"Test score: {lgb.score(X_test, y_test).round(2)}\")"
      ]
    },
    {
      "cell_type": "code",
      "execution_count": null,
      "metadata": {
        "colab": {
          "base_uri": "https://localhost:8080/"
        },
        "id": "POTHzUypoSSM",
        "outputId": "909a5c71-11a9-4f3a-b95c-e6d156415c9e"
      },
      "outputs": [],
      "source": [
        "pred=lgb.predict(X_test)\n",
        "accuracy_score(y_test, pred)"
      ]
    },
    {
      "cell_type": "markdown",
      "metadata": {
        "id": "5TQZGOvs2hYj"
      },
      "source": [
        "***LGBM Feature Importance (Embedded Method)***"
      ]
    },
    {
      "cell_type": "code",
      "execution_count": null,
      "metadata": {
        "colab": {
          "base_uri": "https://localhost:8080/",
          "height": 502
        },
        "id": "XeDwRSBM1dj9",
        "outputId": "48867a55-8c09-4a30-a9cf-5e25744f394f"
      },
      "outputs": [],
      "source": [
        "imp=lgb.feature_importances_\n",
        "\n",
        "fi=pd.DataFrame({'features': X.columns, 'importance': imp}).sort_values('importance', ascending=False)\n",
        "plt.figure(figsize=(15, 8))\n",
        "sns.barplot(x='importance', y='features', data=fi)\n",
        "plt.show()"
      ]
    },
    {
      "cell_type": "code",
      "execution_count": null,
      "metadata": {
        "colab": {
          "base_uri": "https://localhost:8080/"
        },
        "id": "e3aAPOYN1dnO",
        "outputId": "90259e57-8b99-49df-9012-99be1ee17f77"
      },
      "outputs": [],
      "source": [
        "imp_feat=list(fi['features'].head(21))\n",
        "X=df[imp_feat]\n",
        "y=df['Result']\n",
        "\n",
        "X=X/X.max()\n",
        "\n",
        "X_train, X_test, y_train, y_test=train_test_split(X, y, stratify=y, test_size=0.30, random_state=np.random.seed(10))\n",
        "X_train.shape, X_test.shape"
      ]
    },
    {
      "cell_type": "code",
      "execution_count": null,
      "metadata": {
        "colab": {
          "base_uri": "https://localhost:8080/"
        },
        "id": "-S4o0ipV1dp2",
        "outputId": "c0ae02d3-6133-4b69-d73c-240bac58d1ad"
      },
      "outputs": [],
      "source": [
        "lgb=LGBMClassifier()\n",
        "# Random search of parameters, using 10 fold cross validation and search across 30 different combinations, and use all available cores\n",
        "rand_search=RandomizedSearchCV(estimator=lgb, param_distributions=random_grid, n_iter=30, cv=10, verbose=2, random_state=42, n_jobs=-1)\n",
        "rand_search.fit(X_train, y_train)"
      ]
    },
    {
      "cell_type": "code",
      "execution_count": null,
      "metadata": {
        "colab": {
          "base_uri": "https://localhost:8080/"
        },
        "id": "hKAj7kFX1dsv",
        "outputId": "64d59735-20ac-431b-993b-61612aca8c3d"
      },
      "outputs": [],
      "source": [
        "rand_search.best_params_"
      ]
    },
    {
      "cell_type": "code",
      "execution_count": null,
      "metadata": {
        "colab": {
          "base_uri": "https://localhost:8080/"
        },
        "id": "lUoJW8Bu4OFh",
        "outputId": "6690c85a-c284-4fb2-9722-7112690c0db6"
      },
      "outputs": [],
      "source": [
        "X_train.shape"
      ]
    },
    {
      "cell_type": "code",
      "execution_count": null,
      "metadata": {
        "id": "Nha6xZzs1dvL"
      },
      "outputs": [],
      "source": [
        "lgb=LGBMClassifier(max_depth=110, n_estimators=700, learning_rate=0.1).fit(X_train, y_train)"
      ]
    },
    {
      "cell_type": "code",
      "execution_count": null,
      "metadata": {
        "colab": {
          "base_uri": "https://localhost:8080/"
        },
        "id": "rTn6_YUf1dxr",
        "outputId": "6cd58ae1-2beb-4ae9-8ec0-92c8689c7954"
      },
      "outputs": [],
      "source": [
        "print(f\"Training score: {lgb.score(X_train, y_train).round(2)}\\n\")\n",
        "print(f\"Test score: {lgb.score(X_test, y_test).round(2)}\")"
      ]
    },
    {
      "cell_type": "code",
      "execution_count": null,
      "metadata": {
        "colab": {
          "base_uri": "https://localhost:8080/"
        },
        "id": "T0SGo7SI1d0T",
        "outputId": "10d3e95d-b54c-45a2-8319-638d21cbcc4f"
      },
      "outputs": [],
      "source": [
        "pred=lgb.predict(X_test)\n",
        "accuracy_score(y_test, pred)"
      ]
    },
    {
      "cell_type": "markdown",
      "metadata": {
        "id": "4b6_-lEy2uVi"
      },
      "source": [
        "***Correlation Coefficient***"
      ]
    },
    {
      "cell_type": "code",
      "execution_count": null,
      "metadata": {
        "id": "mTJaiIljjTPp"
      },
      "outputs": [],
      "source": [
        "lgb=LGBMClassifier().fit(X_train, y_train)"
      ]
    },
    {
      "cell_type": "code",
      "execution_count": null,
      "metadata": {
        "colab": {
          "base_uri": "https://localhost:8080/"
        },
        "id": "JySmi1pEjTSn",
        "outputId": "4644b2fe-44f1-4d6a-fd10-cda28d4015db"
      },
      "outputs": [],
      "source": [
        "print(f\"Training score: {lgb.score(X_train, y_train).round(2)}\\n\")\n",
        "print(f\"Test score: {lgb.score(X_test, y_test).round(2)}\")"
      ]
    },
    {
      "cell_type": "code",
      "execution_count": null,
      "metadata": {
        "colab": {
          "base_uri": "https://localhost:8080/"
        },
        "id": "TheRGopBjTVX",
        "outputId": "93c55d40-448d-471a-d1b3-c90e9c2243bc"
      },
      "outputs": [],
      "source": [
        "pred=lgb.predict(X_test)\n",
        "accuracy_score(y_test, pred)"
      ]
    },
    {
      "cell_type": "code",
      "execution_count": null,
      "metadata": {
        "colab": {
          "base_uri": "https://localhost:8080/"
        },
        "id": "n2uP12D6jTm3",
        "outputId": "a62e786a-09d6-48c8-d56e-436bcc728f4b"
      },
      "outputs": [],
      "source": [
        "X_test.shape"
      ]
    },
    {
      "cell_type": "code",
      "execution_count": null,
      "metadata": {
        "colab": {
          "base_uri": "https://localhost:8080/"
        },
        "id": "6BkdvgvVoV2w",
        "outputId": "f183163d-b13d-4c4a-8c00-280bcc070807"
      },
      "outputs": [],
      "source": [
        "lgb=LGBMClassifier()\n",
        "# Random search of parameters, using 10 fold cross validation and search across 30 different combinations, and use all available cores\n",
        "rand_search=RandomizedSearchCV(estimator=lgb, param_distributions=random_grid, n_iter=30, cv=10, verbose=2, random_state=42, n_jobs=-1)\n",
        "rand_search.fit(X_train, y_train)"
      ]
    },
    {
      "cell_type": "code",
      "execution_count": null,
      "metadata": {
        "colab": {
          "base_uri": "https://localhost:8080/"
        },
        "id": "MOEuLgDtsdLr",
        "outputId": "ad582907-cb53-4933-f1f4-30be10065721"
      },
      "outputs": [],
      "source": [
        "rand_search.best_params_"
      ]
    },
    {
      "cell_type": "code",
      "execution_count": null,
      "metadata": {
        "id": "PkwEJZD1uqji"
      },
      "outputs": [],
      "source": [
        "lgb=LGBMClassifier(max_depth=110, n_estimators=900, learning_rate=0.1).fit(X_train, y_train)"
      ]
    },
    {
      "cell_type": "code",
      "execution_count": null,
      "metadata": {
        "colab": {
          "base_uri": "https://localhost:8080/"
        },
        "id": "dWazDwWpu13Q",
        "outputId": "427a204f-96c0-4219-ad0d-7c851915caef"
      },
      "outputs": [],
      "source": [
        "print(f\"Training score: {lgb.score(X_train, y_train).round(2)}\\n\")\n",
        "print(f\"Test score: {lgb.score(X_test, y_test).round(2)}\")"
      ]
    },
    {
      "cell_type": "code",
      "execution_count": null,
      "metadata": {
        "colab": {
          "base_uri": "https://localhost:8080/"
        },
        "id": "UUrOmG6xu5AK",
        "outputId": "20a7c285-095b-4207-a7e5-6093b278db4c"
      },
      "outputs": [],
      "source": [
        "pred=lgb.predict(X_test)\n",
        "accuracy_score(y_test, pred)"
      ]
    },
    {
      "cell_type": "code",
      "execution_count": null,
      "metadata": {
        "colab": {
          "base_uri": "https://localhost:8080/"
        },
        "id": "JjlTwwiiu8sF",
        "outputId": "8c0c85cd-7532-4be8-fc8a-6782675de7b8"
      },
      "outputs": [],
      "source": [
        "X_test.shape"
      ]
    },
    {
      "cell_type": "code",
      "execution_count": null,
      "metadata": {
        "colab": {
          "base_uri": "https://localhost:8080/",
          "height": 379
        },
        "id": "hncbDHlY9r9O",
        "outputId": "9f5f63d4-71c5-4169-831b-39eb3d1068af"
      },
      "outputs": [],
      "source": [
        "plt.figure(figsize=(16, 6))\n",
        "sns.heatmap(confusion_matrix(y_test, pred), annot=True, fmt='g')\n",
        "plt.show()"
      ]
    },
    {
      "cell_type": "code",
      "execution_count": null,
      "metadata": {
        "colab": {
          "base_uri": "https://localhost:8080/"
        },
        "id": "q8etGPiv9r_J",
        "outputId": "52280ff4-6bd3-4b66-db09-0faffa6c0010"
      },
      "outputs": [],
      "source": [
        "print(classification_report(y_test, pred, target_names=['Phishing', 'Real']))"
      ]
    },
    {
      "cell_type": "code",
      "execution_count": null,
      "metadata": {
        "colab": {
          "base_uri": "https://localhost:8080/",
          "height": 17
        },
        "id": "xpwRSqw89sCx",
        "outputId": "0c03a7fc-2ca2-4945-a996-e7a354554d82"
      },
      "outputs": [],
      "source": [
        "import joblib\n",
        "model=r\"lightgbm.pkl\"\n",
        "joblib.dump(lgb, model)\n",
        "\n",
        "files.download('lightgbm.pkl')"
      ]
    },
    {
      "cell_type": "markdown",
      "metadata": {
        "id": "HpVz43ZPapBS"
      },
      "source": [
        "***Step wise Feature Selection (Wrapper Method)***"
      ]
    },
    {
      "cell_type": "code",
      "execution_count": null,
      "metadata": {
        "colab": {
          "base_uri": "https://localhost:8080/"
        },
        "id": "Q6u5G6CFamvs",
        "outputId": "cb6718e5-3506-46cc-bb34-19d75db33240"
      },
      "outputs": [],
      "source": [
        "lgb=LGBMClassifier()\n",
        "# Random search of parameters, using 10 fold cross validation and search across 30 different combinations, and use all available cores\n",
        "rand_search=RandomizedSearchCV(estimator=lgb, param_distributions=random_grid, n_iter=30, cv=10, verbose=2, random_state=42, n_jobs=-1)\n",
        "rand_search.fit(X, y)\n",
        "print(rand_search.best_params_)"
      ]
    },
    {
      "cell_type": "code",
      "execution_count": null,
      "metadata": {
        "id": "eeupONbLszaa"
      },
      "outputs": [],
      "source": [
        "X_fi=X.values\n",
        "y_fi=y.values"
      ]
    },
    {
      "cell_type": "code",
      "execution_count": null,
      "metadata": {
        "colab": {
          "base_uri": "https://localhost:8080/"
        },
        "id": "MSfvvcEZszdI",
        "outputId": "bc735078-b065-422f-a50a-13c0462803e9"
      },
      "outputs": [],
      "source": [
        "sffs=SFS(LGBMClassifier(max_depth=50, n_estimators=400, learning_rate=0.1), \n",
        "         k_features=X.shape[1], forward=True, floating=True, scoring='accuracy', cv=0)\n",
        "sffs.fit(X_fi, y_fi, custom_feature_names=X.columns)"
      ]
    },
    {
      "cell_type": "code",
      "execution_count": null,
      "metadata": {
        "colab": {
          "base_uri": "https://localhost:8080/",
          "height": 990
        },
        "id": "WuNfgx4eszf3",
        "outputId": "b9b3ca3f-5fe0-4a41-daf8-213cedba36cb"
      },
      "outputs": [],
      "source": [
        "sffs_df=pd.DataFrame(sffs.subsets_).transpose()\n",
        "sffs_df"
      ]
    },
    {
      "cell_type": "code",
      "execution_count": null,
      "metadata": {
        "colab": {
          "base_uri": "https://localhost:8080/"
        },
        "id": "lLgphumOsziK",
        "outputId": "d5834613-1ac5-4c75-a15e-862865ca0f42"
      },
      "outputs": [],
      "source": [
        "sffs_df.avg_score.sort_values(ascending=False)"
      ]
    },
    {
      "cell_type": "code",
      "execution_count": null,
      "metadata": {
        "colab": {
          "base_uri": "https://localhost:8080/"
        },
        "id": "JpJKupYbszkv",
        "outputId": "378eb4bb-a4aa-4beb-f50d-b9b2dd43cdb6"
      },
      "outputs": [],
      "source": [
        "IF=list(sffs_df['feature_names'].loc[23])\n",
        "IF"
      ]
    },
    {
      "cell_type": "code",
      "execution_count": null,
      "metadata": {
        "colab": {
          "base_uri": "https://localhost:8080/"
        },
        "id": "7AelzHM_szn0",
        "outputId": "7ae74fc0-9e49-44b4-8751-e63cd7c80446"
      },
      "outputs": [],
      "source": [
        "X=df[IF]\n",
        "y=df['Result']\n",
        "\n",
        "\n",
        "X=X/X.max()\n",
        "\n",
        "X_train, X_test, y_train, y_test=train_test_split(X, y, stratify=y, test_size=0.30, random_state=np.random.seed(10))\n",
        "X_train.shape, X_test.shape"
      ]
    },
    {
      "cell_type": "code",
      "execution_count": null,
      "metadata": {
        "colab": {
          "base_uri": "https://localhost:8080/"
        },
        "id": "Sp0GhmQtxc6M",
        "outputId": "e3a36e89-2cb8-4be4-9d74-792b5c9a0789"
      },
      "outputs": [],
      "source": [
        "lgb=LGBMClassifier()\n",
        "# Random search of parameters, using 10 fold cross validation and search across 30 different combinations, and use all available cores\n",
        "rand_search=RandomizedSearchCV(estimator=lgb, param_distributions=random_grid, n_iter=30, cv=10, verbose=2, random_state=42, n_jobs=-1)\n",
        "rand_search.fit(X_train, y_train)"
      ]
    },
    {
      "cell_type": "code",
      "execution_count": null,
      "metadata": {
        "colab": {
          "base_uri": "https://localhost:8080/"
        },
        "id": "20qGB0UOzdS5",
        "outputId": "b70ea99e-6a06-44f3-b85a-61c3fba9e255"
      },
      "outputs": [],
      "source": [
        "rand_search.best_params_"
      ]
    },
    {
      "cell_type": "code",
      "execution_count": null,
      "metadata": {
        "id": "4Fj85HVkxc86"
      },
      "outputs": [],
      "source": [
        "lgb=LGBMClassifier(max_depth=110, n_estimators=700, learning_rate=0.1).fit(X_train, y_train)"
      ]
    },
    {
      "cell_type": "code",
      "execution_count": null,
      "metadata": {
        "colab": {
          "base_uri": "https://localhost:8080/"
        },
        "id": "gTfy1j6oxc_t",
        "outputId": "5cfb0a4a-df04-4402-b393-0db610c87ed6"
      },
      "outputs": [],
      "source": [
        "print(f\"Training score: {lgb.score(X_train, y_train).round(2)}\\n\")\n",
        "print(f\"Test score: {lgb.score(X_test, y_test).round(2)}\")"
      ]
    },
    {
      "cell_type": "code",
      "execution_count": null,
      "metadata": {
        "colab": {
          "base_uri": "https://localhost:8080/"
        },
        "id": "1pJLT4iXxdCS",
        "outputId": "5694281a-8534-4d1d-ba32-65bc1820b6cb"
      },
      "outputs": [],
      "source": [
        "pred=lgb.predict(X_test)\n",
        "accuracy_score(y_test, pred)"
      ]
    },
    {
      "cell_type": "markdown",
      "metadata": {
        "id": "4U0x2Z8G28RL"
      },
      "source": [
        "***Infoemation Gain (Filter Method)***"
      ]
    },
    {
      "cell_type": "code",
      "execution_count": null,
      "metadata": {
        "colab": {
          "base_uri": "https://localhost:8080/"
        },
        "id": "12j0tQGRnMZx",
        "outputId": "4b5c2010-0409-40d8-d282-f7408ec8abd3"
      },
      "outputs": [],
      "source": [
        "X_train.shape"
      ]
    },
    {
      "cell_type": "code",
      "execution_count": null,
      "metadata": {
        "id": "kfHiAj3NnMcW"
      },
      "outputs": [],
      "source": [
        "lgb=LGBMClassifier().fit(X_train, y_train)"
      ]
    },
    {
      "cell_type": "code",
      "execution_count": null,
      "metadata": {
        "colab": {
          "base_uri": "https://localhost:8080/"
        },
        "id": "8yPck3SqnMfA",
        "outputId": "1c1000bb-f3e6-4a84-b648-f807d953da8c"
      },
      "outputs": [],
      "source": [
        "print(f\"Training score: {lgb.score(X_train, y_train).round(2)}\\n\")\n",
        "print(f\"Test score: {lgb.score(X_test, y_test).round(2)}\")"
      ]
    },
    {
      "cell_type": "code",
      "execution_count": null,
      "metadata": {
        "colab": {
          "base_uri": "https://localhost:8080/"
        },
        "id": "OSX5qsLknMlO",
        "outputId": "833aef04-96a0-45b2-b07a-5767e9c4f842"
      },
      "outputs": [],
      "source": [
        "pred=lgb.predict(X_test)\n",
        "accuracy_score(y_test, pred)"
      ]
    },
    {
      "cell_type": "code",
      "execution_count": null,
      "metadata": {
        "colab": {
          "base_uri": "https://localhost:8080/"
        },
        "id": "cy0T5x-YvAnX",
        "outputId": "b85f1184-6831-4ca9-dcb8-912a8ee2d3c0"
      },
      "outputs": [],
      "source": [
        "lgb=LGBMClassifier()\n",
        "# Random search of parameters, using 10 fold cross validation and search across 30 different combinations, and use all available cores\n",
        "rand_search=RandomizedSearchCV(estimator=lgb, param_distributions=random_grid, n_iter=30, cv=10, verbose=2, random_state=42, n_jobs=-1)\n",
        "rand_search.fit(X_train, y_train)"
      ]
    },
    {
      "cell_type": "code",
      "execution_count": null,
      "metadata": {
        "colab": {
          "base_uri": "https://localhost:8080/"
        },
        "id": "s1IChKviwA9u",
        "outputId": "641d6441-a820-4249-9ab5-d4f9a20d2c3b"
      },
      "outputs": [],
      "source": [
        "rand_search.best_params_"
      ]
    },
    {
      "cell_type": "code",
      "execution_count": null,
      "metadata": {
        "id": "imFs4d2ewDGw"
      },
      "outputs": [],
      "source": [
        "lgb=LGBMClassifier(max_depth=70, n_estimators=800, learning_rate=0.1).fit(X_train, y_train)"
      ]
    },
    {
      "cell_type": "code",
      "execution_count": null,
      "metadata": {
        "colab": {
          "base_uri": "https://localhost:8080/"
        },
        "id": "LyE8NtiSxvP4",
        "outputId": "dc561a0d-b403-49b8-ad7d-eb1601299c23"
      },
      "outputs": [],
      "source": [
        "print(f\"Training score: {lgb.score(X_train, y_train).round(2)}\\n\")\n",
        "print(f\"Test score: {lgb.score(X_test, y_test).round(2)}\")"
      ]
    },
    {
      "cell_type": "code",
      "execution_count": null,
      "metadata": {
        "colab": {
          "base_uri": "https://localhost:8080/"
        },
        "id": "o2KQlOjCxx2C",
        "outputId": "281eb3da-2979-4c60-a247-b4c1a80ad858"
      },
      "outputs": [],
      "source": [
        "pred=lgb.predict(X_test)\n",
        "accuracy_score(y_test, pred)"
      ]
    },
    {
      "cell_type": "markdown",
      "metadata": {
        "id": "Bh1W8pX73DFX"
      },
      "source": [
        "***Chi Square Test (Filter Method)***"
      ]
    },
    {
      "cell_type": "code",
      "execution_count": null,
      "metadata": {
        "colab": {
          "base_uri": "https://localhost:8080/"
        },
        "id": "REgXKr4yx0cb",
        "outputId": "e62c174b-a9e6-4cc0-a863-96b1601a450c"
      },
      "outputs": [],
      "source": [
        "X_train.shape"
      ]
    },
    {
      "cell_type": "code",
      "execution_count": null,
      "metadata": {
        "id": "cNI45qmtmN5K"
      },
      "outputs": [],
      "source": [
        "lgb=LGBMClassifier().fit(X_train, y_train)"
      ]
    },
    {
      "cell_type": "code",
      "execution_count": null,
      "metadata": {
        "colab": {
          "base_uri": "https://localhost:8080/"
        },
        "id": "U1P9gmp4mN7_",
        "outputId": "22d6aa7c-7d08-4cfa-84f8-bd12419bfd3c"
      },
      "outputs": [],
      "source": [
        "print(f\"Training score: {lgb.score(X_train, y_train).round(2)}\\n\")\n",
        "print(f\"Test score: {lgb.score(X_test, y_test).round(2)}\")"
      ]
    },
    {
      "cell_type": "code",
      "execution_count": null,
      "metadata": {
        "colab": {
          "base_uri": "https://localhost:8080/"
        },
        "id": "Sxu48YddmN-w",
        "outputId": "f852d778-cf50-41ae-8a47-84d82063e37e"
      },
      "outputs": [],
      "source": [
        "pred=lgb.predict(X_test)\n",
        "accuracy_score(y_test, pred)"
      ]
    },
    {
      "cell_type": "code",
      "execution_count": null,
      "metadata": {
        "colab": {
          "base_uri": "https://localhost:8080/"
        },
        "id": "hEVxQgt2zCQD",
        "outputId": "825496d4-509e-49b1-de13-b57ed341bf6a"
      },
      "outputs": [],
      "source": [
        "lgb=LGBMClassifier()\n",
        "# Random search of parameters, using 10 fold cross validation and search across 30 different combinations, and use all available cores\n",
        "rand_search=RandomizedSearchCV(estimator=lgb, param_distributions=random_grid, n_iter=30, cv=10, verbose=2, random_state=42, n_jobs=-1)\n",
        "rand_search.fit(X_train, y_train)"
      ]
    },
    {
      "cell_type": "code",
      "execution_count": null,
      "metadata": {
        "colab": {
          "base_uri": "https://localhost:8080/"
        },
        "id": "EiWY0TIHzDek",
        "outputId": "d618692c-be79-4143-b7d4-f0fb227fc3b9"
      },
      "outputs": [],
      "source": [
        "rand_search.best_params_"
      ]
    },
    {
      "cell_type": "code",
      "execution_count": null,
      "metadata": {
        "id": "iVN9ZLP7zKj5"
      },
      "outputs": [],
      "source": [
        "lgb=LGBMClassifier(max_depth=110, n_estimators=1400, learning_rate=0.1).fit(X_train, y_train)"
      ]
    },
    {
      "cell_type": "code",
      "execution_count": null,
      "metadata": {
        "colab": {
          "base_uri": "https://localhost:8080/"
        },
        "id": "p2yNGu4OzPfn",
        "outputId": "792ce448-3683-4f67-d0c1-b00f4f1c49a0"
      },
      "outputs": [],
      "source": [
        "print(f\"Training score: {lgb.score(X_train, y_train).round(2)}\\n\")\n",
        "print(f\"Test score: {lgb.score(X_test, y_test).round(2)}\")"
      ]
    },
    {
      "cell_type": "code",
      "execution_count": null,
      "metadata": {
        "colab": {
          "base_uri": "https://localhost:8080/"
        },
        "id": "olyHhUrNzRkP",
        "outputId": "53314db9-64f7-4689-c61d-b61b4602f227"
      },
      "outputs": [],
      "source": [
        "pred=lgb.predict(X_test)\n",
        "accuracy_score(y_test, pred)"
      ]
    },
    {
      "cell_type": "markdown",
      "metadata": {
        "id": "LXQBxejCipvO"
      },
      "source": [
        "### ***Category Boosting***"
      ]
    },
    {
      "cell_type": "code",
      "execution_count": null,
      "metadata": {
        "colab": {
          "base_uri": "https://localhost:8080/"
        },
        "id": "yEQNHOGv1XLH",
        "outputId": "a955cad7-8e4e-4ba0-90f0-944a10c50c88"
      },
      "outputs": [],
      "source": [
        "!pip install catboost"
      ]
    },
    {
      "cell_type": "code",
      "execution_count": null,
      "metadata": {
        "id": "nubSqJ8c0yEe"
      },
      "outputs": [],
      "source": [
        "from catboost import CatBoostClassifier"
      ]
    },
    {
      "cell_type": "code",
      "execution_count": null,
      "metadata": {
        "colab": {
          "base_uri": "https://localhost:8080/"
        },
        "id": "2JoAjN6D_RzQ",
        "outputId": "125aef73-87da-4e9a-b132-ca7f23c4f393"
      },
      "outputs": [],
      "source": [
        "cat=CatBoostClassifier().fit(X_train,y_train)"
      ]
    },
    {
      "cell_type": "code",
      "execution_count": null,
      "metadata": {
        "colab": {
          "base_uri": "https://localhost:8080/"
        },
        "id": "_KK0AuvI_R1m",
        "outputId": "6087e88c-dbfe-4c5c-bc10-3346012f70b7"
      },
      "outputs": [],
      "source": [
        "print(f\"Training score: {cat.score(X_train, y_train).round(2)}\\n\")\n",
        "print(f\"Test score: {cat.score(X_test, y_test).round(2)}\")"
      ]
    },
    {
      "cell_type": "code",
      "execution_count": null,
      "metadata": {
        "colab": {
          "base_uri": "https://localhost:8080/"
        },
        "id": "FSMeCKI__R6O",
        "outputId": "007f0fbe-4a7c-487a-8ee4-fdcb521cee60"
      },
      "outputs": [],
      "source": [
        "pred=cat.predict(X_test)\n",
        "accuracy_score(y_test, pred)"
      ]
    },
    {
      "cell_type": "code",
      "execution_count": null,
      "metadata": {
        "colab": {
          "base_uri": "https://localhost:8080/"
        },
        "id": "KpFpqAKY_svw",
        "outputId": "fac27d2d-0958-46dd-a2b1-07959b8fe720"
      },
      "outputs": [],
      "source": [
        "X_test.shape"
      ]
    },
    {
      "cell_type": "code",
      "execution_count": null,
      "metadata": {
        "colab": {
          "base_uri": "https://localhost:8080/",
          "height": 378
        },
        "id": "j0LaU2qWYTia",
        "outputId": "061a3089-f5b4-4dd6-f3b3-ed08c3bda8ac"
      },
      "outputs": [],
      "source": [
        "plt.figure(figsize=(16, 6))\n",
        "sns.heatmap(confusion_matrix(y_test, pred), annot=True, fmt='g')\n",
        "plt.show()"
      ]
    },
    {
      "cell_type": "code",
      "execution_count": null,
      "metadata": {
        "colab": {
          "base_uri": "https://localhost:8080/"
        },
        "id": "1Y7yRlstYTmE",
        "outputId": "ec834945-9e18-4047-bed3-e18135cab23b"
      },
      "outputs": [],
      "source": [
        "print(classification_report(y_test, pred, target_names=['Phishing', 'Real']))"
      ]
    },
    {
      "cell_type": "code",
      "execution_count": null,
      "metadata": {
        "colab": {
          "base_uri": "https://localhost:8080/",
          "height": 17
        },
        "id": "3wxDqJHKYiP8",
        "outputId": "0d2e5a50-599a-4ebe-a67b-56bbd7a9d744"
      },
      "outputs": [],
      "source": [
        "import joblib\n",
        "model=r\"catboost.pkl\"\n",
        "joblib.dump(cat, model)\n",
        "\n",
        "files.download('catboost.pkl')"
      ]
    },
    {
      "cell_type": "code",
      "execution_count": null,
      "metadata": {
        "colab": {
          "base_uri": "https://localhost:8080/"
        },
        "id": "ecMl6Vdm1e6K",
        "outputId": "9528e124-d431-4d86-8937-905b2011c19c"
      },
      "outputs": [],
      "source": [
        "from sklearn.model_selection import RandomizedSearchCV\n",
        "# Number of iterations\n",
        "iterations=[int(x) for x in np.linspace(start=10, stop=100, num=10)]\n",
        "\n",
        "# Maximum number of levels in tree\n",
        "depth=[int(x) for x in np.linspace(10, 110, num = 11)]\n",
        "depth.append(None)\n",
        "\n",
        "#learning rate\n",
        "learning_rate=[0.01, 0.1, 1]\n",
        "# Create the random grid\n",
        "random_grid={'iterations': iterations,\n",
        "             'depth': depth,\n",
        "             'learning_rate': learning_rate}\n",
        "random_grid"
      ]
    },
    {
      "cell_type": "code",
      "execution_count": null,
      "metadata": {
        "colab": {
          "base_uri": "https://localhost:8080/"
        },
        "id": "Gpsg39d313ru",
        "outputId": "1691d725-2b4a-4fe4-efd2-3e342f99fafd"
      },
      "outputs": [],
      "source": [
        "X_train.shape"
      ]
    },
    {
      "cell_type": "markdown",
      "metadata": {
        "id": "JTRLcwtBBhEC"
      },
      "source": [
        "***No Feature Selection***"
      ]
    },
    {
      "cell_type": "code",
      "execution_count": null,
      "metadata": {
        "colab": {
          "base_uri": "https://localhost:8080/"
        },
        "id": "lkD6fAxx2BMF",
        "outputId": "f23e2497-24ca-444c-d8c5-c0fc73ee28c4"
      },
      "outputs": [],
      "source": [
        "cat=CatBoostClassifier()\n",
        "# Random search of parameters, using 10 fold cross validation and search across 30 different combinations, and use all available cores\n",
        "rand_search=RandomizedSearchCV(estimator=cat, param_distributions=random_grid, n_iter=30, cv=10, verbose=2, random_state=42, n_jobs=-1)\n",
        "rand_search.fit(X_train, y_train)"
      ]
    },
    {
      "cell_type": "code",
      "execution_count": null,
      "metadata": {
        "colab": {
          "base_uri": "https://localhost:8080/"
        },
        "id": "axxi_NHw2H2z",
        "outputId": "d147b63b-a497-4098-9912-9e744e117f33"
      },
      "outputs": [],
      "source": [
        "rand_search.best_params_"
      ]
    },
    {
      "cell_type": "code",
      "execution_count": null,
      "metadata": {
        "colab": {
          "base_uri": "https://localhost:8080/"
        },
        "id": "6z0dFZEM2NBc",
        "outputId": "96f866cf-d356-4eb6-e5ca-2f8e439b0a7d"
      },
      "outputs": [],
      "source": [
        "cat=CatBoostClassifier(depth=10, iterations=90, learning_rate=0.1).fit(X_train, y_train)"
      ]
    },
    {
      "cell_type": "code",
      "execution_count": null,
      "metadata": {
        "colab": {
          "base_uri": "https://localhost:8080/"
        },
        "id": "MC-DUEQw2bjv",
        "outputId": "609ba2f0-ca9a-48ca-c04a-a389e95d9fbd"
      },
      "outputs": [],
      "source": [
        "print(f\"Training score: {cat.score(X_train, y_train).round(2)}\\n\")\n",
        "print(f\"Test score: {cat.score(X_test, y_test).round(2)}\")"
      ]
    },
    {
      "cell_type": "code",
      "execution_count": null,
      "metadata": {
        "colab": {
          "base_uri": "https://localhost:8080/"
        },
        "id": "6s0Ssxw82kkU",
        "outputId": "756b130f-9ef8-40e1-b3bf-c4eb2f193e13"
      },
      "outputs": [],
      "source": [
        "pred=cat.predict(X_test)\n",
        "accuracy_score(y_test, pred)"
      ]
    },
    {
      "cell_type": "code",
      "execution_count": null,
      "metadata": {
        "colab": {
          "base_uri": "https://localhost:8080/"
        },
        "id": "Cw6q9N99ApUo",
        "outputId": "518ea80f-d64f-4b72-d13f-d11a550d74f2"
      },
      "outputs": [],
      "source": [
        "X_test.shape"
      ]
    },
    {
      "cell_type": "markdown",
      "metadata": {
        "id": "DUP0M9dbBnny"
      },
      "source": [
        "***CatBoost Feature Importance (Embedded Method)***"
      ]
    },
    {
      "cell_type": "code",
      "execution_count": null,
      "metadata": {
        "colab": {
          "base_uri": "https://localhost:8080/",
          "height": 502
        },
        "id": "C5dcrcb86JMT",
        "outputId": "fde2b60b-8159-491f-bcf4-e81363e05165"
      },
      "outputs": [],
      "source": [
        "imp=cat.feature_importances_\n",
        "\n",
        "fi=pd.DataFrame({'features': X.columns, 'importance': imp}).sort_values('importance', ascending=False)\n",
        "plt.figure(figsize=(15, 8))\n",
        "sns.barplot(x='importance', y='features', data=fi)\n",
        "plt.show()"
      ]
    },
    {
      "cell_type": "code",
      "execution_count": null,
      "metadata": {
        "colab": {
          "base_uri": "https://localhost:8080/"
        },
        "id": "zcj3ZmX_7IaJ",
        "outputId": "cc218adf-7af0-4f62-d7b8-93709182c2cb"
      },
      "outputs": [],
      "source": [
        "from sklearn.model_selection import RandomizedSearchCV\n",
        "# Number of iterations\n",
        "iterations=[int(x) for x in np.linspace(start=10, stop=100, num=10)]\n",
        "\n",
        "# Maximum number of levels in tree\n",
        "depth=[4,5,6,7,8,9, 10]\n",
        "depth.append(None)\n",
        "\n",
        "#learning rate\n",
        "learning_rate=[0.01, 0.1, 1]\n",
        "# Create the random grid\n",
        "random_grid={'iterations': iterations,\n",
        "             'depth': depth,\n",
        "             'learning_rate': learning_rate}\n",
        "random_grid"
      ]
    },
    {
      "cell_type": "code",
      "execution_count": null,
      "metadata": {
        "colab": {
          "base_uri": "https://localhost:8080/"
        },
        "id": "oWhH9j1H6VgI",
        "outputId": "04166ad6-3913-429b-d13f-a0e115ed29bf"
      },
      "outputs": [],
      "source": [
        "imp_feat=list(fi['features'].head(12))\n",
        "X=df[imp_feat]\n",
        "y=df['Result']\n",
        "\n",
        "X=X/X.max()\n",
        "\n",
        "X_train, X_test, y_train, y_test=train_test_split(X, y, stratify=y, test_size=0.30, random_state=np.random.seed(10))\n",
        "X_train.shape, X_test.shape"
      ]
    },
    {
      "cell_type": "code",
      "execution_count": null,
      "metadata": {
        "colab": {
          "base_uri": "https://localhost:8080/"
        },
        "id": "jw-tbJeV7jxr",
        "outputId": "af38c17b-eb2c-43c9-9cab-4157891ead2c"
      },
      "outputs": [],
      "source": [
        "cat=CatBoostClassifier()\n",
        "# Random search of parameters, using 10 fold cross validation and search across 30 different combinations, and use all available cores\n",
        "rand_search=RandomizedSearchCV(estimator=cat, param_distributions=random_grid, n_iter=30, cv=10, verbose=2, random_state=42, n_jobs=-1)\n",
        "rand_search.fit(X_train, y_train)"
      ]
    },
    {
      "cell_type": "code",
      "execution_count": null,
      "metadata": {
        "colab": {
          "base_uri": "https://localhost:8080/"
        },
        "id": "hw8fj78o7j1h",
        "outputId": "7f0ede48-fc76-4069-d740-ae6deafb523e"
      },
      "outputs": [],
      "source": [
        "rand_search.best_params_"
      ]
    },
    {
      "cell_type": "code",
      "execution_count": null,
      "metadata": {
        "colab": {
          "base_uri": "https://localhost:8080/"
        },
        "id": "vuIN-4y-6k-o",
        "outputId": "584f58f4-39f5-4800-80c7-e9bf368ff583"
      },
      "outputs": [],
      "source": [
        "cat=CatBoostClassifier(depth=10, iterations=90, learning_rate=1).fit(X_train, y_train)"
      ]
    },
    {
      "cell_type": "code",
      "execution_count": null,
      "metadata": {
        "colab": {
          "base_uri": "https://localhost:8080/"
        },
        "id": "R6zB-kpv6v0g",
        "outputId": "de2ae32b-6153-46c6-cc9c-1512922be3e1"
      },
      "outputs": [],
      "source": [
        "print(f\"Training score: {cat.score(X_train, y_train).round(2)}\\n\")\n",
        "print(f\"Test score: {cat.score(X_test, y_test).round(2)}\")"
      ]
    },
    {
      "cell_type": "code",
      "execution_count": null,
      "metadata": {
        "colab": {
          "base_uri": "https://localhost:8080/"
        },
        "id": "QnYxWz4y69Hn",
        "outputId": "e0bbc19a-a3d4-49c0-f833-3f0b471493b6"
      },
      "outputs": [],
      "source": [
        "pred=cat.predict(X_test)\n",
        "accuracy_score(y_test, pred)"
      ]
    },
    {
      "cell_type": "markdown",
      "metadata": {
        "id": "Yap9mn-oBxat"
      },
      "source": [
        "***Correlation Coefficient (Filter Method)***"
      ]
    },
    {
      "cell_type": "code",
      "execution_count": null,
      "metadata": {
        "colab": {
          "base_uri": "https://localhost:8080/"
        },
        "id": "6He9viHojuca",
        "outputId": "b6357be3-abc5-4b56-a37c-fafe0ee21df3"
      },
      "outputs": [],
      "source": [
        "cat=CatBoostClassifier().fit(X_train, y_train)"
      ]
    },
    {
      "cell_type": "code",
      "execution_count": null,
      "metadata": {
        "colab": {
          "base_uri": "https://localhost:8080/"
        },
        "id": "_kdcaIazjufo",
        "outputId": "e8429970-38c0-4adc-bbdd-bb9a81fe5e34"
      },
      "outputs": [],
      "source": [
        "print(f\"Training score: {cat.score(X_train, y_train).round(2)}\\n\")\n",
        "print(f\"Test score: {cat.score(X_test, y_test).round(2)}\")"
      ]
    },
    {
      "cell_type": "code",
      "execution_count": null,
      "metadata": {
        "colab": {
          "base_uri": "https://localhost:8080/"
        },
        "id": "Esw-xtLDjujN",
        "outputId": "4c60d756-a3f6-4fbd-ed26-79cfe5a40f86"
      },
      "outputs": [],
      "source": [
        "pred=cat.predict(X_test)\n",
        "accuracy_score(y_test, pred)"
      ]
    },
    {
      "cell_type": "code",
      "execution_count": null,
      "metadata": {
        "colab": {
          "base_uri": "https://localhost:8080/"
        },
        "id": "I-b7u5P0juw5",
        "outputId": "d072bae9-3017-4715-8656-262df58d9b64"
      },
      "outputs": [],
      "source": [
        "X_train.shape"
      ]
    },
    {
      "cell_type": "code",
      "execution_count": null,
      "metadata": {
        "colab": {
          "base_uri": "https://localhost:8080/"
        },
        "id": "83jNxf-D73G7",
        "outputId": "958e8e72-60a3-4f70-dc7b-71c7d36fd117"
      },
      "outputs": [],
      "source": [
        "cat=CatBoostClassifier()\n",
        "# Random search of parameters, using 10 fold cross validation and search across 30 different combinations, and use all available cores\n",
        "rand_search=RandomizedSearchCV(estimator=cat, param_distributions=random_grid, n_iter=30, cv=10, verbose=2, random_state=42, n_jobs=-1)\n",
        "rand_search.fit(X_train, y_train)"
      ]
    },
    {
      "cell_type": "code",
      "execution_count": null,
      "metadata": {
        "colab": {
          "base_uri": "https://localhost:8080/"
        },
        "id": "O6srJJg88KjH",
        "outputId": "039cdb02-03ab-43f7-9e52-2ae9ff8270b8"
      },
      "outputs": [],
      "source": [
        "rand_search.best_params_"
      ]
    },
    {
      "cell_type": "code",
      "execution_count": null,
      "metadata": {
        "colab": {
          "base_uri": "https://localhost:8080/"
        },
        "id": "19ltDn_M8r-E",
        "outputId": "144a9fcc-796d-4e71-b73f-3ae43fcbb26f"
      },
      "outputs": [],
      "source": [
        "cat=CatBoostClassifier(depth=8, iterations=80, learning_rate=1).fit(X_train, y_train)"
      ]
    },
    {
      "cell_type": "code",
      "execution_count": null,
      "metadata": {
        "colab": {
          "base_uri": "https://localhost:8080/"
        },
        "id": "pyxAksAS8xc2",
        "outputId": "0a98ae6b-1b84-43f1-941d-601d40a753a1"
      },
      "outputs": [],
      "source": [
        "print(f\"Training score: {cat.score(X_train, y_train).round(2)}\\n\")\n",
        "print(f\"Test score: {cat.score(X_test, y_test).round(2)}\")"
      ]
    },
    {
      "cell_type": "code",
      "execution_count": null,
      "metadata": {
        "colab": {
          "base_uri": "https://localhost:8080/"
        },
        "id": "Ny-0tcmV87m1",
        "outputId": "e2468c75-2513-4c4e-e09e-342e50f4b174"
      },
      "outputs": [],
      "source": [
        "pred=cat.predict(X_test)\n",
        "accuracy_score(y_test, pred)"
      ]
    },
    {
      "cell_type": "markdown",
      "metadata": {
        "id": "VtmzNTA-eZQb"
      },
      "source": [
        "***Wrappera***"
      ]
    },
    {
      "cell_type": "code",
      "execution_count": null,
      "metadata": {
        "id": "G900iMD1grXm"
      },
      "outputs": [],
      "source": [
        "X_fi=X.values\n",
        "y_fi=y.values"
      ]
    },
    {
      "cell_type": "code",
      "execution_count": null,
      "metadata": {
        "colab": {
          "base_uri": "https://localhost:8080/"
        },
        "id": "WMvqhN95gPq7",
        "outputId": "93baaf89-7387-452c-b1d5-e949e53f767e"
      },
      "outputs": [],
      "source": [
        "sffs=SFS(CatBoostClassifier(depth=10, iterations=90, learning_rate=1), \n",
        "         k_features=X.shape[1], forward=True, floating=True, scoring='accuracy', cv=0)\n",
        "sffs.fit(X_fi, y_fi, custom_feature_names=X.columns)"
      ]
    },
    {
      "cell_type": "code",
      "execution_count": null,
      "metadata": {
        "colab": {
          "base_uri": "https://localhost:8080/",
          "height": 990
        },
        "id": "RKhQHtwVg1Zj",
        "outputId": "abdaaf61-abf5-4f33-ed43-cee46a097945"
      },
      "outputs": [],
      "source": [
        "sffs_df=pd.DataFrame(sffs.subsets_).transpose()\n",
        "sffs_df"
      ]
    },
    {
      "cell_type": "code",
      "execution_count": null,
      "metadata": {
        "colab": {
          "base_uri": "https://localhost:8080/"
        },
        "id": "GqsxLisHhD2M",
        "outputId": "30a5c82f-851b-42a4-a754-21a54791daf5"
      },
      "outputs": [],
      "source": [
        "sffs_df.avg_score.sort_values(ascending=False)"
      ]
    },
    {
      "cell_type": "code",
      "execution_count": null,
      "metadata": {
        "colab": {
          "base_uri": "https://localhost:8080/"
        },
        "id": "k0DNryS-puP1",
        "outputId": "ab61505f-66f1-494e-e739-0efd745898c2"
      },
      "outputs": [],
      "source": [
        "IF=list(sffs_df['feature_names'].loc[23])\n",
        "IF"
      ]
    },
    {
      "cell_type": "code",
      "execution_count": null,
      "metadata": {
        "colab": {
          "base_uri": "https://localhost:8080/"
        },
        "id": "GockpS4mp2LW",
        "outputId": "142dca74-5d11-49b1-fb57-7491c4796c4b"
      },
      "outputs": [],
      "source": [
        "X=df[IF]\n",
        "y=df['Result']\n",
        "\n",
        "\n",
        "X=X/X.max()\n",
        "\n",
        "X_train, X_test, y_train, y_test=train_test_split(X, y, stratify=y, test_size=0.30, random_state=np.random.seed(10))\n",
        "X_train.shape, X_test.shape"
      ]
    },
    {
      "cell_type": "code",
      "execution_count": null,
      "metadata": {
        "colab": {
          "base_uri": "https://localhost:8080/"
        },
        "id": "8KqIYCDbqEA4",
        "outputId": "2423a7b8-4d89-4be0-ea8e-b0a64a71c11e"
      },
      "outputs": [],
      "source": [
        "cat=CatBoostClassifier()\n",
        "# Random search of parameters, using 10 fold cross validation and search across 30 different combinations, and use all available cores\n",
        "rand_search=RandomizedSearchCV(estimator=cat, param_distributions=random_grid, n_iter=30, cv=10, verbose=2, random_state=42, n_jobs=-1)\n",
        "rand_search.fit(X_train, y_train)"
      ]
    },
    {
      "cell_type": "code",
      "execution_count": null,
      "metadata": {
        "colab": {
          "base_uri": "https://localhost:8080/"
        },
        "id": "0saPJJarqNA3",
        "outputId": "ed3c7d9c-fa83-40d4-d199-451d4387b785"
      },
      "outputs": [],
      "source": [
        "rand_search.best_params_"
      ]
    },
    {
      "cell_type": "code",
      "execution_count": null,
      "metadata": {
        "colab": {
          "base_uri": "https://localhost:8080/"
        },
        "id": "kKjGJwD5qND0",
        "outputId": "c31fb4cb-e27f-4d87-bb71-2b2813121c05"
      },
      "outputs": [],
      "source": [
        "cat=CatBoostClassifier(depth=9, iterations=90, learning_rate=1).fit(X_train, y_train)"
      ]
    },
    {
      "cell_type": "code",
      "execution_count": null,
      "metadata": {
        "colab": {
          "base_uri": "https://localhost:8080/"
        },
        "id": "ehIpBi5Kqwkb",
        "outputId": "22a6a41f-0fa9-455f-8814-852acb5fa0c2"
      },
      "outputs": [],
      "source": [
        "print(f\"Training score: {cat.score(X_train, y_train).round(2)}\\n\")\n",
        "print(f\"Test score: {cat.score(X_test, y_test).round(2)}\")"
      ]
    },
    {
      "cell_type": "code",
      "execution_count": null,
      "metadata": {
        "colab": {
          "base_uri": "https://localhost:8080/"
        },
        "id": "ubFj6v2nqwnC",
        "outputId": "7822420e-92b1-4488-e95f-e2d4212351cc"
      },
      "outputs": [],
      "source": [
        "pred=cat.predict(X_test)\n",
        "accuracy_score(y_test, pred)"
      ]
    },
    {
      "cell_type": "markdown",
      "metadata": {
        "id": "grCG-viDB5VW"
      },
      "source": [
        "***Information Gain (Filter Method)***"
      ]
    },
    {
      "cell_type": "code",
      "execution_count": null,
      "metadata": {
        "colab": {
          "base_uri": "https://localhost:8080/"
        },
        "id": "Kyftg5QlnhD9",
        "outputId": "1d81f8fb-e262-40fe-edcc-6b83da0af17c"
      },
      "outputs": [],
      "source": [
        "X_train.shape"
      ]
    },
    {
      "cell_type": "code",
      "execution_count": null,
      "metadata": {
        "colab": {
          "base_uri": "https://localhost:8080/"
        },
        "id": "UUi54XIhnhGz",
        "outputId": "97fa8052-5086-4132-dffb-6d0aeab6b106"
      },
      "outputs": [],
      "source": [
        "cat=CatBoostClassifier().fit(X_train, y_train)"
      ]
    },
    {
      "cell_type": "code",
      "execution_count": null,
      "metadata": {
        "colab": {
          "base_uri": "https://localhost:8080/"
        },
        "id": "74bXEp_znhJk",
        "outputId": "06f16391-5297-4498-dd59-03fc28fbd52a"
      },
      "outputs": [],
      "source": [
        "print(f\"Training score: {cat.score(X_train, y_train).round(2)}\\n\")\n",
        "print(f\"Test score: {cat.score(X_test, y_test).round(2)}\")"
      ]
    },
    {
      "cell_type": "code",
      "execution_count": null,
      "metadata": {
        "colab": {
          "base_uri": "https://localhost:8080/"
        },
        "id": "G6vcQadInhME",
        "outputId": "e6604462-ad2f-4617-92e8-6374eef39a6a"
      },
      "outputs": [],
      "source": [
        "pred=cat.predict(X_test)\n",
        "accuracy_score(y_test, pred)"
      ]
    },
    {
      "cell_type": "code",
      "execution_count": null,
      "metadata": {
        "colab": {
          "base_uri": "https://localhost:8080/"
        },
        "id": "2XbQ__ug8_Zu",
        "outputId": "e3a1fd59-829a-41b9-a2f3-a6e4c6930f08"
      },
      "outputs": [],
      "source": [
        "cat=CatBoostClassifier()\n",
        "# Random search of parameters, using 10 fold cross validation and search across 30 different combinations, and use all available cores\n",
        "rand_search=RandomizedSearchCV(estimator=cat, param_distributions=random_grid, n_iter=30, cv=10, verbose=2, random_state=42, n_jobs=-1)\n",
        "rand_search.fit(X_train, y_train)"
      ]
    },
    {
      "cell_type": "code",
      "execution_count": null,
      "metadata": {
        "colab": {
          "base_uri": "https://localhost:8080/"
        },
        "id": "qjNLC3A89ly1",
        "outputId": "dff7a5f3-c735-4f56-ca22-bf7bba6cab08"
      },
      "outputs": [],
      "source": [
        "rand_search.best_params_"
      ]
    },
    {
      "cell_type": "code",
      "execution_count": null,
      "metadata": {
        "colab": {
          "base_uri": "https://localhost:8080/"
        },
        "id": "Dy5Y2gFT98nb",
        "outputId": "2b764a53-ce2b-4728-f33b-89ad11425aed"
      },
      "outputs": [],
      "source": [
        "cat=CatBoostClassifier(depth=9, iterations=90, learning_rate=1).fit(X_train, y_train)"
      ]
    },
    {
      "cell_type": "code",
      "execution_count": null,
      "metadata": {
        "colab": {
          "base_uri": "https://localhost:8080/"
        },
        "id": "6nHkGpRH-C1m",
        "outputId": "fb856930-a3bf-455a-b3c3-afd442b8f545"
      },
      "outputs": [],
      "source": [
        "print(f\"Training score: {cat.score(X_train, y_train).round(2)}\\n\")\n",
        "print(f\"Test score: {cat.score(X_test, y_test).round(2)}\")"
      ]
    },
    {
      "cell_type": "code",
      "execution_count": null,
      "metadata": {
        "colab": {
          "base_uri": "https://localhost:8080/"
        },
        "id": "xnb--iIl-HN6",
        "outputId": "39943513-1813-40ff-819d-c7318080b22d"
      },
      "outputs": [],
      "source": [
        "pred=cat.predict(X_test)\n",
        "accuracy_score(y_test, pred)"
      ]
    },
    {
      "cell_type": "markdown",
      "metadata": {
        "id": "uJNpMjKVB_6U"
      },
      "source": [
        "***Chi Square Method (Filter Method)***"
      ]
    },
    {
      "cell_type": "code",
      "execution_count": null,
      "metadata": {
        "colab": {
          "base_uri": "https://localhost:8080/"
        },
        "id": "DDaQ2XOfmivH",
        "outputId": "3eb5bef5-6f33-4e44-ddff-5fbd715d2d4c"
      },
      "outputs": [],
      "source": [
        "X_test.shape"
      ]
    },
    {
      "cell_type": "code",
      "execution_count": null,
      "metadata": {
        "colab": {
          "base_uri": "https://localhost:8080/"
        },
        "id": "ok2NEeKwmiyF",
        "outputId": "e2d25958-e380-4665-fcb5-fbf244853acf"
      },
      "outputs": [],
      "source": [
        "cat=CatBoostClassifier().fit(X_train, y_train)"
      ]
    },
    {
      "cell_type": "code",
      "execution_count": null,
      "metadata": {
        "colab": {
          "base_uri": "https://localhost:8080/"
        },
        "id": "mQQhtAS9mi18",
        "outputId": "ff5e2744-ffcf-4dc8-aa9f-f851ba788720"
      },
      "outputs": [],
      "source": [
        "print(f\"Training score: {cat.score(X_train, y_train).round(2)}\\n\")\n",
        "print(f\"Test score: {cat.score(X_test, y_test).round(2)}\")"
      ]
    },
    {
      "cell_type": "code",
      "execution_count": null,
      "metadata": {
        "colab": {
          "base_uri": "https://localhost:8080/"
        },
        "id": "vg9wYIn9mi47",
        "outputId": "e2604d6f-6c97-4bcd-adc5-fffb2b29cd68"
      },
      "outputs": [],
      "source": [
        "pred=cat.predict(X_test)\n",
        "accuracy_score(y_test, pred)"
      ]
    },
    {
      "cell_type": "code",
      "execution_count": null,
      "metadata": {
        "colab": {
          "base_uri": "https://localhost:8080/"
        },
        "id": "VcfOvBs1-LXc",
        "outputId": "9135a2aa-f892-401f-98f7-b41f4b435264"
      },
      "outputs": [],
      "source": [
        "cat=CatBoostClassifier()\n",
        "# Random search of parameters, using 10 fold cross validation and search across 30 different combinations, and use all available cores\n",
        "rand_search=RandomizedSearchCV(estimator=cat, param_distributions=random_grid, n_iter=30, cv=10, verbose=2, random_state=42, n_jobs=-1)\n",
        "rand_search.fit(X_train, y_train)"
      ]
    },
    {
      "cell_type": "code",
      "execution_count": null,
      "metadata": {
        "colab": {
          "base_uri": "https://localhost:8080/"
        },
        "id": "kYNR-wi3_h6o",
        "outputId": "f637f7db-6433-422c-fc1e-45bf3680553a"
      },
      "outputs": [],
      "source": [
        "rand_search.best_params_"
      ]
    },
    {
      "cell_type": "code",
      "execution_count": null,
      "metadata": {
        "colab": {
          "base_uri": "https://localhost:8080/"
        },
        "id": "40gB0mXH_lFB",
        "outputId": "2af21dc9-cfc4-410f-93fe-6d44ce28ba5b"
      },
      "outputs": [],
      "source": [
        "cat=CatBoostClassifier(depth=7, iterations=80, learning_rate=1).fit(X_train, y_train)"
      ]
    },
    {
      "cell_type": "code",
      "execution_count": null,
      "metadata": {
        "colab": {
          "base_uri": "https://localhost:8080/"
        },
        "id": "kZq65yjD_p1p",
        "outputId": "4b3797e6-ba18-481b-9659-fabb08fa7758"
      },
      "outputs": [],
      "source": [
        "print(f\"Training score: {cat.score(X_train, y_train).round(2)}\\n\")\n",
        "print(f\"Test score: {cat.score(X_test, y_test).round(2)}\")"
      ]
    },
    {
      "cell_type": "code",
      "execution_count": null,
      "metadata": {
        "colab": {
          "base_uri": "https://localhost:8080/"
        },
        "id": "RO_K5aY5_sWz",
        "outputId": "92eccdc4-bd26-4915-82af-6de227e1c6b0"
      },
      "outputs": [],
      "source": [
        "pred=cat.predict(X_test)\n",
        "accuracy_score(y_test, pred)"
      ]
    },
    {
      "cell_type": "code",
      "execution_count": null,
      "metadata": {
        "id": "7nGeugAusuNn"
      },
      "outputs": [],
      "source": []
    }
  ],
  "metadata": {
    "colab": {
      "collapsed_sections": [],
      "name": "Phishing Website Detection.ipynb",
      "provenance": []
    },
    "kernelspec": {
      "display_name": "Python 3",
      "name": "python3"
    },
    "language_info": {
      "name": "python"
    }
  },
  "nbformat": 4,
  "nbformat_minor": 0
}
